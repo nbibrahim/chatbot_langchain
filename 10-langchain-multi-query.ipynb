{
  "cells": [
    {
      "attachments": {},
      "cell_type": "markdown",
      "metadata": {},
      "source": [
        "[![Open In Colab](https://colab.research.google.com/assets/colab-badge.svg)](https://colab.research.google.com/github/pinecone-io/examples/blob/master/learn/generation/langchain/handbook/10-langchain-multi-query.ipynb) [![Open nbviewer](https://raw.githubusercontent.com/pinecone-io/examples/master/assets/nbviewer-shield.svg)](https://nbviewer.org/github/pinecone-io/examples/blob/master/learn/generation/langchain/handbook/08-langchain-multi-query.ipynb)"
      ]
    },
    {
      "attachments": {},
      "cell_type": "markdown",
      "metadata": {
        "id": "2-XDGL6Oi6h4"
      },
      "source": [
        "#### [LangChain Handbook](https://pinecone.io/learn/langchain)\n",
        "\n",
        "# LangChain Multi-Query for RAG"
      ]
    },
    {
      "attachments": {},
      "cell_type": "markdown",
      "metadata": {
        "id": "CPmfrdJ9_2YA"
      },
      "source": [
        "## Getting Data"
      ]
    },
    {
      "attachments": {},
      "cell_type": "markdown",
      "metadata": {
        "id": "S4Py-rVqx-I0"
      },
      "source": [
        "We will download an existing dataset from Hugging Face Datasets."
      ]
    },
    {
      "cell_type": "code",
      "execution_count": 1,
      "metadata": {
        "id": "iatOGmKgz8NE"
      },
      "outputs": [
        {
          "name": "stderr",
          "output_type": "stream",
          "text": [
            "/home/nurul/venvs/tfgpu_mans/lib/python3.10/site-packages/tqdm/auto.py:21: TqdmWarning: IProgress not found. Please update jupyter and ipywidgets. See https://ipywidgets.readthedocs.io/en/stable/user_install.html\n",
            "  from .autonotebook import tqdm as notebook_tqdm\n",
            "Found cached dataset json (/home/nurul/.cache/huggingface/datasets/bibrahim___json/bibrahim--rag_tryout-9e32671c097e1553/0.0.0/e347ab1c932092252e717ff3f949105a4dd28b27e842dd53157d2f72e276c2e4)\n"
          ]
        }
      ],
      "source": [
        "from datasets import load_dataset\n",
        "\n",
        "data=load_dataset('bibrahim/rag_tryout', split='train')"
      ]
    },
    {
      "cell_type": "code",
      "execution_count": 2,
      "metadata": {},
      "outputs": [
        {
          "data": {
            "text/plain": [
              "Dataset({\n",
              "    features: ['id', 'text', 'source'],\n",
              "    num_rows: 319\n",
              "})"
            ]
          },
          "execution_count": 2,
          "metadata": {},
          "output_type": "execute_result"
        }
      ],
      "source": [
        "data"
      ]
    },
    {
      "cell_type": "code",
      "execution_count": 57,
      "metadata": {
        "id": "P7E6JYtb0cW7"
      },
      "outputs": [],
      "source": [
        "from langchain.docstore.document import Document\n",
        "\n",
        "docs = []\n",
        "\n",
        "for row in data:\n",
        "    doc = Document(\n",
        "        page_content=row[\"text\"],\n",
        "        metadata={\n",
        "            \"text\": row[\"text\"]\n",
        "        }\n",
        "    )\n",
        "    docs.append(doc)"
      ]
    },
    {
      "attachments": {},
      "cell_type": "markdown",
      "metadata": {
        "id": "yb540kEs_6PZ"
      },
      "source": [
        "## Embedding and Vector DB Setup"
      ]
    },
    {
      "attachments": {},
      "cell_type": "markdown",
      "metadata": {
        "id": "BlKEmBZMBxtd"
      },
      "source": [
        "Initialize our embedding model:"
      ]
    },
    {
      "cell_type": "code",
      "execution_count": 58,
      "metadata": {
        "id": "qZ6vTiDPBznz"
      },
      "outputs": [],
      "source": [
        "import os\n",
        "from getpass import getpass\n",
        "from langchain.embeddings.openai import OpenAIEmbeddings\n",
        "\n",
        "model_name = \"text-embedding-ada-002\"\n",
        "\n",
        "# get openai api key from platform.openai.com\n",
        "OPENAI_API_KEY = getpass(\"OpenAI API Key: \")\n",
        "\n",
        "embed = OpenAIEmbeddings(\n",
        "    model=model_name, openai_api_key=OPENAI_API_KEY, disallowed_special=()\n",
        ")"
      ]
    },
    {
      "attachments": {},
      "cell_type": "markdown",
      "metadata": {
        "id": "IurEkeeI-IYl"
      },
      "source": [
        "Create our Pinecone index:"
      ]
    },
    {
      "cell_type": "code",
      "execution_count": 59,
      "metadata": {
        "id": "nL3KFF9E9Qb_"
      },
      "outputs": [],
      "source": [
        "import pinecone\n",
        "import time\n",
        "\n",
        "index_name = \"langchain-multi-query-demo\"\n",
        "\n",
        "# find API key in console at app.pinecone.io\n",
        "YOUR_API_KEY = os.getenv('PINECONE_API_KEY') or getpass(\"Pinecone API Key: \")\n",
        "# find ENV (cloud region) next to API key in console\n",
        "YOUR_ENV = os.getenv('PINECONE_ENVIRONMENT') or input(\"Pinecone Env: \")\n",
        "\n",
        "pinecone.init(\n",
        "    api_key=YOUR_API_KEY,\n",
        "    environment=YOUR_ENV\n",
        ")\n",
        "\n",
        "if index_name not in pinecone.list_indexes():\n",
        "    # we create a new index\n",
        "    pinecone.create_index(\n",
        "        name=index_name,\n",
        "        metric='dotproduct',\n",
        "        dimension=1536  # 1536 dim of text-embedding-ada-002\n",
        "    )\n",
        "    # wait for index to be initialized\n",
        "    while not pinecone.describe_index(index_name).status[\"ready\"]:\n",
        "        time.sleep(1)\n",
        "\n",
        "# now connect to index\n",
        "index = pinecone.Index(index_name)"
      ]
    },
    {
      "attachments": {},
      "cell_type": "markdown",
      "metadata": {
        "id": "A3B7dHsd6QcP"
      },
      "source": [
        "Populate our index:"
      ]
    },
    {
      "cell_type": "code",
      "execution_count": 60,
      "metadata": {
        "id": "B7Yi2YGBpTWf"
      },
      "outputs": [
        {
          "data": {
            "text/plain": [
              "319"
            ]
          },
          "execution_count": 60,
          "metadata": {},
          "output_type": "execute_result"
        }
      ],
      "source": [
        "len(docs)"
      ]
    },
    {
      "cell_type": "code",
      "execution_count": 61,
      "metadata": {
        "id": "thfCYHuSpW4H"
      },
      "outputs": [],
      "source": [
        "# if you want to speed things up to follow along\n",
        "#docs = docs[:5000]"
      ]
    },
    {
      "cell_type": "code",
      "execution_count": 62,
      "metadata": {},
      "outputs": [
        {
          "name": "stdout",
          "output_type": "stream",
          "text": [
            "page_content='\\ufeffFaculty of Engineering and Applied Science\\n4.1 Program of Study\\n1. Courses in the Engineering Program are normally taken in Academic Terms as shown in the appropriate program table. Students must satisfy the criteria for promotion as described below under Promotion Regulations to remain in the Engineering program.\\n\\n2. The Engineering Program consists of eight academic terms and four to six work terms. The first-year of the Engineering Program, known as Engineering One, forms a core that is common to all majors. All students must successfully complete the requirements of Engineering One prior to being promoted to Academic Term 3 as indicated under Promotion Regulations, Promotion Status (Engineering One).\\n\\n3. To be eligible for registration for ENGI 001W in the Spring semester after completing Engineering One, students are expected to successfully complete the prerequisite ENGI 200W in the Fall semester of Engineering One. All other Engineering One students are expected to successfully complete ENGI 200W in the Winter semester of Engineering One.\\n\\n4. In 1000 level Engineering courses, registration priority is given to students who have been admitted to Engineering One. Other students will be admitted to these courses only with the approval of the Associate Dean (Undergraduate Studies) (or delegate).\\n\\n5. In these program regulations, including the program tables, wherever reference is made to Chemistry 1050, this course may be replaced by a course deemed equivalent by the relevant academic unit.\\n\\n6. Upon entering Academic Term 3, students begin to specialize in their academic program, in one of the following seven majors: Civil Engineering, Computer Engineering, Electrical Engineering, Mechanical Engineering, Mechatronics Engineering, Ocean and Naval Architectural Engineering, or Process Engineering.\\n\\n7. Upon entering Academic Term 6, students in the Computer Engineering and Electrical Engineering majors may choose to enter the Biomedical stream. Upon entering Academic Term 6, students in the Mechanical Engineering major choose one of five technical streams: Biomedical, Mechanics and Materials, Mechatronics, Petroleum, and Thermo-Fluids. Upon entering Academic Term 6, students in the Process Engineering major may choose one of two technical streams: Chemical and Bioprocess, and Mineral and Energy Resources.\\n\\n8. Courses offered in the Faculty of Engineering and Applied Science are restricted to students who have been admitted or promoted to the appropriate academic term and major (e.g., Academic Term 3 for 3000 level courses, restricted by major; Engineering One for 1000 level courses). Other students will be admitted to these courses only with the approval of the Head of the appropriate Department for courses at the 3000 level and higher, or the Associate Dean (Undergraduate Studies) (or delegate) for ENGI courses.' metadata={'text': '\\ufeffFaculty of Engineering and Applied Science\\n4.1 Program of Study\\n1. Courses in the Engineering Program are normally taken in Academic Terms as shown in the appropriate program table. Students must satisfy the criteria for promotion as described below under Promotion Regulations to remain in the Engineering program.\\n\\n2. The Engineering Program consists of eight academic terms and four to six work terms. The first-year of the Engineering Program, known as Engineering One, forms a core that is common to all majors. All students must successfully complete the requirements of Engineering One prior to being promoted to Academic Term 3 as indicated under Promotion Regulations, Promotion Status (Engineering One).\\n\\n3. To be eligible for registration for ENGI 001W in the Spring semester after completing Engineering One, students are expected to successfully complete the prerequisite ENGI 200W in the Fall semester of Engineering One. All other Engineering One students are expected to successfully complete ENGI 200W in the Winter semester of Engineering One.\\n\\n4. In 1000 level Engineering courses, registration priority is given to students who have been admitted to Engineering One. Other students will be admitted to these courses only with the approval of the Associate Dean (Undergraduate Studies) (or delegate).\\n\\n5. In these program regulations, including the program tables, wherever reference is made to Chemistry 1050, this course may be replaced by a course deemed equivalent by the relevant academic unit.\\n\\n6. Upon entering Academic Term 3, students begin to specialize in their academic program, in one of the following seven majors: Civil Engineering, Computer Engineering, Electrical Engineering, Mechanical Engineering, Mechatronics Engineering, Ocean and Naval Architectural Engineering, or Process Engineering.\\n\\n7. Upon entering Academic Term 6, students in the Computer Engineering and Electrical Engineering majors may choose to enter the Biomedical stream. Upon entering Academic Term 6, students in the Mechanical Engineering major choose one of five technical streams: Biomedical, Mechanics and Materials, Mechatronics, Petroleum, and Thermo-Fluids. Upon entering Academic Term 6, students in the Process Engineering major may choose one of two technical streams: Chemical and Bioprocess, and Mineral and Energy Resources.\\n\\n8. Courses offered in the Faculty of Engineering and Applied Science are restricted to students who have been admitted or promoted to the appropriate academic term and major (e.g., Academic Term 3 for 3000 level courses, restricted by major; Engineering One for 1000 level courses). Other students will be admitted to these courses only with the approval of the Head of the appropriate Department for courses at the 3000 level and higher, or the Associate Dean (Undergraduate Studies) (or delegate) for ENGI courses.'}\n"
          ]
        }
      ],
      "source": [
        "print(docs[0])"
      ]
    },
    {
      "cell_type": "code",
      "execution_count": 68,
      "metadata": {},
      "outputs": [
        {
          "data": {
            "text/plain": [
              "{'text': '\\ufeffFaculty of Engineering and Applied Science\\n4.1 Program of Study\\n1. Courses in the Engineering Program are normally taken in Academic Terms as shown in the appropriate program table. Students must satisfy the criteria for promotion as described below under Promotion Regulations to remain in the Engineering program.\\n\\n2. The Engineering Program consists of eight academic terms and four to six work terms. The first-year of the Engineering Program, known as Engineering One, forms a core that is common to all majors. All students must successfully complete the requirements of Engineering One prior to being promoted to Academic Term 3 as indicated under Promotion Regulations, Promotion Status (Engineering One).\\n\\n3. To be eligible for registration for ENGI 001W in the Spring semester after completing Engineering One, students are expected to successfully complete the prerequisite ENGI 200W in the Fall semester of Engineering One. All other Engineering One students are expected to successfully complete ENGI 200W in the Winter semester of Engineering One.\\n\\n4. In 1000 level Engineering courses, registration priority is given to students who have been admitted to Engineering One. Other students will be admitted to these courses only with the approval of the Associate Dean (Undergraduate Studies) (or delegate).\\n\\n5. In these program regulations, including the program tables, wherever reference is made to Chemistry 1050, this course may be replaced by a course deemed equivalent by the relevant academic unit.\\n\\n6. Upon entering Academic Term 3, students begin to specialize in their academic program, in one of the following seven majors: Civil Engineering, Computer Engineering, Electrical Engineering, Mechanical Engineering, Mechatronics Engineering, Ocean and Naval Architectural Engineering, or Process Engineering.\\n\\n7. Upon entering Academic Term 6, students in the Computer Engineering and Electrical Engineering majors may choose to enter the Biomedical stream. Upon entering Academic Term 6, students in the Mechanical Engineering major choose one of five technical streams: Biomedical, Mechanics and Materials, Mechatronics, Petroleum, and Thermo-Fluids. Upon entering Academic Term 6, students in the Process Engineering major may choose one of two technical streams: Chemical and Bioprocess, and Mineral and Energy Resources.\\n\\n8. Courses offered in the Faculty of Engineering and Applied Science are restricted to students who have been admitted or promoted to the appropriate academic term and major (e.g., Academic Term 3 for 3000 level courses, restricted by major; Engineering One for 1000 level courses). Other students will be admitted to these courses only with the approval of the Head of the appropriate Department for courses at the 3000 level and higher, or the Associate Dean (Undergraduate Studies) (or delegate) for ENGI courses.'}"
            ]
          },
          "execution_count": 68,
          "metadata": {},
          "output_type": "execute_result"
        }
      ],
      "source": [
        "docs[0].metadata"
      ]
    },
    {
      "cell_type": "code",
      "execution_count": 65,
      "metadata": {
        "id": "HXVVU97C6SwT"
      },
      "outputs": [
        {
          "name": "stderr",
          "output_type": "stream",
          "text": [
            "  0%|          | 0/4 [00:01<?, ?it/s]\n"
          ]
        },
        {
          "ename": "ApiValueError",
          "evalue": "Invalid value for `id`, length must be less than or equal to `512`",
          "output_type": "error",
          "traceback": [
            "\u001b[0;31m---------------------------------------------------------------------------\u001b[0m",
            "\u001b[0;31mApiValueError\u001b[0m                             Traceback (most recent call last)",
            "\u001b[1;32m/home/nurul/Downloads/Startup/chatbot_langchain/10-langchain-multi-query.ipynb Cell 17\u001b[0m line \u001b[0;36m1\n\u001b[1;32m     <a href='vscode-notebook-cell:/home/nurul/Downloads/Startup/chatbot_langchain/10-langchain-multi-query.ipynb#X21sZmlsZQ%3D%3D?line=12'>13</a>\u001b[0m metadata \u001b[39m=\u001b[39m [d\u001b[39m.\u001b[39mmetadata \u001b[39mfor\u001b[39;00m d \u001b[39min\u001b[39;00m docs_batch]\n\u001b[1;32m     <a href='vscode-notebook-cell:/home/nurul/Downloads/Startup/chatbot_langchain/10-langchain-multi-query.ipynb#X21sZmlsZQ%3D%3D?line=13'>14</a>\u001b[0m to_upsert \u001b[39m=\u001b[39m \u001b[39mzip\u001b[39m( embeds, metadata)\n\u001b[0;32m---> <a href='vscode-notebook-cell:/home/nurul/Downloads/Startup/chatbot_langchain/10-langchain-multi-query.ipynb#X21sZmlsZQ%3D%3D?line=14'>15</a>\u001b[0m index\u001b[39m.\u001b[39;49mupsert(vectors\u001b[39m=\u001b[39;49mto_upsert)\n",
            "File \u001b[0;32m~/venvs/tfgpu_mans/lib/python3.10/site-packages/pinecone/core/utils/error_handling.py:17\u001b[0m, in \u001b[0;36mvalidate_and_convert_errors.<locals>.inner_func\u001b[0;34m(*args, **kwargs)\u001b[0m\n\u001b[1;32m     15\u001b[0m Config\u001b[39m.\u001b[39mvalidate()  \u001b[39m# raises exceptions in case of invalid config\u001b[39;00m\n\u001b[1;32m     16\u001b[0m \u001b[39mtry\u001b[39;00m:\n\u001b[0;32m---> 17\u001b[0m     \u001b[39mreturn\u001b[39;00m func(\u001b[39m*\u001b[39;49margs, \u001b[39m*\u001b[39;49m\u001b[39m*\u001b[39;49mkwargs)\n\u001b[1;32m     18\u001b[0m \u001b[39mexcept\u001b[39;00m MaxRetryError \u001b[39mas\u001b[39;00m e:\n\u001b[1;32m     19\u001b[0m     \u001b[39mif\u001b[39;00m \u001b[39misinstance\u001b[39m(e\u001b[39m.\u001b[39mreason, ProtocolError):\n",
            "File \u001b[0;32m~/venvs/tfgpu_mans/lib/python3.10/site-packages/pinecone/index.py:147\u001b[0m, in \u001b[0;36mIndex.upsert\u001b[0;34m(self, vectors, namespace, batch_size, show_progress, **kwargs)\u001b[0m\n\u001b[1;32m    142\u001b[0m     \u001b[39mraise\u001b[39;00m \u001b[39mValueError\u001b[39;00m(\u001b[39m'\u001b[39m\u001b[39masync_req is not supported when batch_size is provided.\u001b[39m\u001b[39m'\u001b[39m\n\u001b[1;32m    143\u001b[0m                      \u001b[39m'\u001b[39m\u001b[39mTo upsert in parallel, please follow: \u001b[39m\u001b[39m'\u001b[39m\n\u001b[1;32m    144\u001b[0m                      \u001b[39m'\u001b[39m\u001b[39mhttps://docs.pinecone.io/docs/insert-data#sending-upserts-in-parallel\u001b[39m\u001b[39m'\u001b[39m)\n\u001b[1;32m    146\u001b[0m \u001b[39mif\u001b[39;00m batch_size \u001b[39mis\u001b[39;00m \u001b[39mNone\u001b[39;00m:\n\u001b[0;32m--> 147\u001b[0m     \u001b[39mreturn\u001b[39;00m \u001b[39mself\u001b[39;49m\u001b[39m.\u001b[39;49m_upsert_batch(vectors, namespace, _check_type, \u001b[39m*\u001b[39;49m\u001b[39m*\u001b[39;49mkwargs)\n\u001b[1;32m    149\u001b[0m \u001b[39mif\u001b[39;00m \u001b[39mnot\u001b[39;00m \u001b[39misinstance\u001b[39m(batch_size, \u001b[39mint\u001b[39m) \u001b[39mor\u001b[39;00m batch_size \u001b[39m<\u001b[39m\u001b[39m=\u001b[39m \u001b[39m0\u001b[39m:\n\u001b[1;32m    150\u001b[0m     \u001b[39mraise\u001b[39;00m \u001b[39mValueError\u001b[39;00m(\u001b[39m'\u001b[39m\u001b[39mbatch_size must be a positive integer\u001b[39m\u001b[39m'\u001b[39m)\n",
            "File \u001b[0;32m~/venvs/tfgpu_mans/lib/python3.10/site-packages/pinecone/index.py:233\u001b[0m, in \u001b[0;36mIndex._upsert_batch\u001b[0;34m(self, vectors, namespace, _check_type, **kwargs)\u001b[0m\n\u001b[1;32m    228\u001b[0m         \u001b[39mreturn\u001b[39;00m _dict_to_vector(item)\n\u001b[1;32m    229\u001b[0m     \u001b[39mraise\u001b[39;00m \u001b[39mValueError\u001b[39;00m(\u001b[39mf\u001b[39m\u001b[39m\"\u001b[39m\u001b[39mInvalid vector value passed: cannot interpret type \u001b[39m\u001b[39m{\u001b[39;00m\u001b[39mtype\u001b[39m(item)\u001b[39m}\u001b[39;00m\u001b[39m\"\u001b[39m)\n\u001b[1;32m    231\u001b[0m \u001b[39mreturn\u001b[39;00m \u001b[39mself\u001b[39m\u001b[39m.\u001b[39m_vector_api\u001b[39m.\u001b[39mupsert(\n\u001b[1;32m    232\u001b[0m     UpsertRequest(\n\u001b[0;32m--> 233\u001b[0m         vectors\u001b[39m=\u001b[39m\u001b[39mlist\u001b[39;49m(\u001b[39mmap\u001b[39;49m(_vector_transform, vectors)),\n\u001b[1;32m    234\u001b[0m         \u001b[39m*\u001b[39m\u001b[39m*\u001b[39margs_dict,\n\u001b[1;32m    235\u001b[0m         _check_type\u001b[39m=\u001b[39m_check_type,\n\u001b[1;32m    236\u001b[0m         \u001b[39m*\u001b[39m\u001b[39m*\u001b[39m{k: v \u001b[39mfor\u001b[39;00m k, v \u001b[39min\u001b[39;00m kwargs\u001b[39m.\u001b[39mitems() \u001b[39mif\u001b[39;00m k \u001b[39mnot\u001b[39;00m \u001b[39min\u001b[39;00m _OPENAPI_ENDPOINT_PARAMS}\n\u001b[1;32m    237\u001b[0m     ),\n\u001b[1;32m    238\u001b[0m     \u001b[39m*\u001b[39m\u001b[39m*\u001b[39m{k: v \u001b[39mfor\u001b[39;00m k, v \u001b[39min\u001b[39;00m kwargs\u001b[39m.\u001b[39mitems() \u001b[39mif\u001b[39;00m k \u001b[39min\u001b[39;00m _OPENAPI_ENDPOINT_PARAMS}\n\u001b[1;32m    239\u001b[0m )\n",
            "File \u001b[0;32m~/venvs/tfgpu_mans/lib/python3.10/site-packages/pinecone/index.py:226\u001b[0m, in \u001b[0;36mIndex._upsert_batch.<locals>._vector_transform\u001b[0;34m(item)\u001b[0m\n\u001b[1;32m    222\u001b[0m         \u001b[39mraise\u001b[39;00m \u001b[39mValueError\u001b[39;00m(\u001b[39mf\u001b[39m\u001b[39m\"\u001b[39m\u001b[39mFound a tuple of length \u001b[39m\u001b[39m{\u001b[39;00m\u001b[39mlen\u001b[39m(item)\u001b[39m}\u001b[39;00m\u001b[39m which is not supported. \u001b[39m\u001b[39m\"\u001b[39m \n\u001b[1;32m    223\u001b[0m                          \u001b[39mf\u001b[39m\u001b[39m\"\u001b[39m\u001b[39mVectors can be represented as tuples either the form (id, values, metadata) or (id, values). \u001b[39m\u001b[39m\"\u001b[39m\n\u001b[1;32m    224\u001b[0m                          \u001b[39mf\u001b[39m\u001b[39m\"\u001b[39m\u001b[39mTo pass sparse values please use either dicts or a Vector objects as inputs.\u001b[39m\u001b[39m\"\u001b[39m)\n\u001b[1;32m    225\u001b[0m     \u001b[39mid\u001b[39m, values, metadata \u001b[39m=\u001b[39m fix_tuple_length(item, \u001b[39m3\u001b[39m)\n\u001b[0;32m--> 226\u001b[0m     \u001b[39mreturn\u001b[39;00m Vector(\u001b[39mid\u001b[39;49m\u001b[39m=\u001b[39;49m\u001b[39mid\u001b[39;49m, values\u001b[39m=\u001b[39;49mvalues, metadata\u001b[39m=\u001b[39;49mmetadata \u001b[39mor\u001b[39;49;00m {}, _check_type\u001b[39m=\u001b[39;49m_check_type)\n\u001b[1;32m    227\u001b[0m \u001b[39melif\u001b[39;00m \u001b[39misinstance\u001b[39m(item, Mapping):\n\u001b[1;32m    228\u001b[0m     \u001b[39mreturn\u001b[39;00m _dict_to_vector(item)\n",
            "File \u001b[0;32m~/venvs/tfgpu_mans/lib/python3.10/site-packages/pinecone/core/client/model_utils.py:49\u001b[0m, in \u001b[0;36mconvert_js_args_to_python_args.<locals>.wrapped_init\u001b[0;34m(_self, *args, **kwargs)\u001b[0m\n\u001b[1;32m     47\u001b[0m \u001b[39mif\u001b[39;00m spec_property_naming:\n\u001b[1;32m     48\u001b[0m     kwargs \u001b[39m=\u001b[39m change_keys_js_to_python(kwargs, _self \u001b[39mif\u001b[39;00m \u001b[39misinstance\u001b[39m(_self, \u001b[39mtype\u001b[39m) \u001b[39melse\u001b[39;00m _self\u001b[39m.\u001b[39m\u001b[39m__class__\u001b[39m)\n\u001b[0;32m---> 49\u001b[0m \u001b[39mreturn\u001b[39;00m fn(_self, \u001b[39m*\u001b[39;49margs, \u001b[39m*\u001b[39;49m\u001b[39m*\u001b[39;49mkwargs)\n",
            "File \u001b[0;32m~/venvs/tfgpu_mans/lib/python3.10/site-packages/pinecone/core/client/model/vector.py:280\u001b[0m, in \u001b[0;36mVector.__init__\u001b[0;34m(self, id, values, *args, **kwargs)\u001b[0m\n\u001b[1;32m    277\u001b[0m \u001b[39mself\u001b[39m\u001b[39m.\u001b[39m_configuration \u001b[39m=\u001b[39m _configuration\n\u001b[1;32m    278\u001b[0m \u001b[39mself\u001b[39m\u001b[39m.\u001b[39m_visited_composed_classes \u001b[39m=\u001b[39m _visited_composed_classes \u001b[39m+\u001b[39m (\u001b[39mself\u001b[39m\u001b[39m.\u001b[39m\u001b[39m__class__\u001b[39m,)\n\u001b[0;32m--> 280\u001b[0m \u001b[39mself\u001b[39;49m\u001b[39m.\u001b[39;49mid \u001b[39m=\u001b[39m \u001b[39mid\u001b[39m\n\u001b[1;32m    281\u001b[0m \u001b[39mself\u001b[39m\u001b[39m.\u001b[39mvalues \u001b[39m=\u001b[39m values\n\u001b[1;32m    282\u001b[0m \u001b[39mfor\u001b[39;00m var_name, var_value \u001b[39min\u001b[39;00m kwargs\u001b[39m.\u001b[39mitems():\n",
            "File \u001b[0;32m~/venvs/tfgpu_mans/lib/python3.10/site-packages/pinecone/core/client/model_utils.py:188\u001b[0m, in \u001b[0;36mOpenApiModel.__setattr__\u001b[0;34m(self, attr, value)\u001b[0m\n\u001b[1;32m    186\u001b[0m \u001b[39mdef\u001b[39;00m \u001b[39m__setattr__\u001b[39m(\u001b[39mself\u001b[39m, attr, value):\n\u001b[1;32m    187\u001b[0m \u001b[39m    \u001b[39m\u001b[39m\"\"\"set the value of an attribute using dot notation: `instance.attr = val`\"\"\"\u001b[39;00m\n\u001b[0;32m--> 188\u001b[0m     \u001b[39mself\u001b[39;49m[attr] \u001b[39m=\u001b[39m value\n",
            "File \u001b[0;32m~/venvs/tfgpu_mans/lib/python3.10/site-packages/pinecone/core/client/model_utils.py:488\u001b[0m, in \u001b[0;36mModelNormal.__setitem__\u001b[0;34m(self, name, value)\u001b[0m\n\u001b[1;32m    485\u001b[0m     \u001b[39mself\u001b[39m\u001b[39m.\u001b[39m\u001b[39m__dict__\u001b[39m[name] \u001b[39m=\u001b[39m value\n\u001b[1;32m    486\u001b[0m     \u001b[39mreturn\u001b[39;00m\n\u001b[0;32m--> 488\u001b[0m \u001b[39mself\u001b[39;49m\u001b[39m.\u001b[39;49mset_attribute(name, value)\n",
            "File \u001b[0;32m~/venvs/tfgpu_mans/lib/python3.10/site-packages/pinecone/core/client/model_utils.py:170\u001b[0m, in \u001b[0;36mOpenApiModel.set_attribute\u001b[0;34m(self, name, value)\u001b[0m\n\u001b[1;32m    164\u001b[0m     check_allowed_values(\n\u001b[1;32m    165\u001b[0m         \u001b[39mself\u001b[39m\u001b[39m.\u001b[39mallowed_values,\n\u001b[1;32m    166\u001b[0m         (name,),\n\u001b[1;32m    167\u001b[0m         value\n\u001b[1;32m    168\u001b[0m     )\n\u001b[1;32m    169\u001b[0m \u001b[39mif\u001b[39;00m (name,) \u001b[39min\u001b[39;00m \u001b[39mself\u001b[39m\u001b[39m.\u001b[39mvalidations:\n\u001b[0;32m--> 170\u001b[0m     check_validations(\n\u001b[1;32m    171\u001b[0m         \u001b[39mself\u001b[39;49m\u001b[39m.\u001b[39;49mvalidations,\n\u001b[1;32m    172\u001b[0m         (name,),\n\u001b[1;32m    173\u001b[0m         value,\n\u001b[1;32m    174\u001b[0m         \u001b[39mself\u001b[39;49m\u001b[39m.\u001b[39;49m_configuration\n\u001b[1;32m    175\u001b[0m     )\n\u001b[1;32m    176\u001b[0m \u001b[39mself\u001b[39m\u001b[39m.\u001b[39m\u001b[39m__dict__\u001b[39m[\u001b[39m'\u001b[39m\u001b[39m_data_store\u001b[39m\u001b[39m'\u001b[39m][name] \u001b[39m=\u001b[39m value\n",
            "File \u001b[0;32m~/venvs/tfgpu_mans/lib/python3.10/site-packages/pinecone/core/client/model_utils.py:909\u001b[0m, in \u001b[0;36mcheck_validations\u001b[0;34m(validations, input_variable_path, input_values, configuration)\u001b[0m\n\u001b[1;32m    898\u001b[0m     \u001b[39mraise\u001b[39;00m ApiValueError(\n\u001b[1;32m    899\u001b[0m         \u001b[39m\"\u001b[39m\u001b[39mInvalid value for `\u001b[39m\u001b[39m%s\u001b[39;00m\u001b[39m`, value must be a multiple of \u001b[39m\u001b[39m\"\u001b[39m\n\u001b[1;32m    900\u001b[0m         \u001b[39m\"\u001b[39m\u001b[39m`\u001b[39m\u001b[39m%s\u001b[39;00m\u001b[39m`\u001b[39m\u001b[39m\"\u001b[39m \u001b[39m%\u001b[39m (\n\u001b[0;32m   (...)\u001b[0m\n\u001b[1;32m    903\u001b[0m         )\n\u001b[1;32m    904\u001b[0m     )\n\u001b[1;32m    906\u001b[0m \u001b[39mif\u001b[39;00m (is_json_validation_enabled(\u001b[39m'\u001b[39m\u001b[39mmaxLength\u001b[39m\u001b[39m'\u001b[39m, configuration) \u001b[39mand\u001b[39;00m\n\u001b[1;32m    907\u001b[0m         \u001b[39m'\u001b[39m\u001b[39mmax_length\u001b[39m\u001b[39m'\u001b[39m \u001b[39min\u001b[39;00m current_validations \u001b[39mand\u001b[39;00m\n\u001b[1;32m    908\u001b[0m         \u001b[39mlen\u001b[39m(input_values) \u001b[39m>\u001b[39m current_validations[\u001b[39m'\u001b[39m\u001b[39mmax_length\u001b[39m\u001b[39m'\u001b[39m]):\n\u001b[0;32m--> 909\u001b[0m     \u001b[39mraise\u001b[39;00m ApiValueError(\n\u001b[1;32m    910\u001b[0m         \u001b[39m\"\u001b[39m\u001b[39mInvalid value for `\u001b[39m\u001b[39m%s\u001b[39;00m\u001b[39m`, length must be less than or equal to \u001b[39m\u001b[39m\"\u001b[39m\n\u001b[1;32m    911\u001b[0m         \u001b[39m\"\u001b[39m\u001b[39m`\u001b[39m\u001b[39m%s\u001b[39;00m\u001b[39m`\u001b[39m\u001b[39m\"\u001b[39m \u001b[39m%\u001b[39m (\n\u001b[1;32m    912\u001b[0m             input_variable_path[\u001b[39m0\u001b[39m],\n\u001b[1;32m    913\u001b[0m             current_validations[\u001b[39m'\u001b[39m\u001b[39mmax_length\u001b[39m\u001b[39m'\u001b[39m]\n\u001b[1;32m    914\u001b[0m         )\n\u001b[1;32m    915\u001b[0m     )\n\u001b[1;32m    917\u001b[0m \u001b[39mif\u001b[39;00m (is_json_validation_enabled(\u001b[39m'\u001b[39m\u001b[39mminLength\u001b[39m\u001b[39m'\u001b[39m, configuration) \u001b[39mand\u001b[39;00m\n\u001b[1;32m    918\u001b[0m         \u001b[39m'\u001b[39m\u001b[39mmin_length\u001b[39m\u001b[39m'\u001b[39m \u001b[39min\u001b[39;00m current_validations \u001b[39mand\u001b[39;00m\n\u001b[1;32m    919\u001b[0m         \u001b[39mlen\u001b[39m(input_values) \u001b[39m<\u001b[39m current_validations[\u001b[39m'\u001b[39m\u001b[39mmin_length\u001b[39m\u001b[39m'\u001b[39m]):\n\u001b[1;32m    920\u001b[0m     \u001b[39mraise\u001b[39;00m ApiValueError(\n\u001b[1;32m    921\u001b[0m         \u001b[39m\"\u001b[39m\u001b[39mInvalid value for `\u001b[39m\u001b[39m%s\u001b[39;00m\u001b[39m`, length must be greater than or equal to \u001b[39m\u001b[39m\"\u001b[39m\n\u001b[1;32m    922\u001b[0m         \u001b[39m\"\u001b[39m\u001b[39m`\u001b[39m\u001b[39m%s\u001b[39;00m\u001b[39m`\u001b[39m\u001b[39m\"\u001b[39m \u001b[39m%\u001b[39m (\n\u001b[0;32m   (...)\u001b[0m\n\u001b[1;32m    925\u001b[0m         )\n\u001b[1;32m    926\u001b[0m     )\n",
            "\u001b[0;31mApiValueError\u001b[0m: Invalid value for `id`, length must be less than or equal to `512`"
          ]
        }
      ],
      "source": [
        "from tqdm.auto import tqdm\n",
        "from uuid import uuid4\n",
        "\n",
        "batch_size = 100\n",
        "\n",
        "for i in tqdm(range(0, len(docs), batch_size)):\n",
        "    i_end = min(len(docs), i+batch_size)\n",
        "    docs_batch = docs[i:i_end]\n",
        "    # get IDs\n",
        "    ids = [f\"{doc.metadata['id']}\" for doc in docs_batch]\n",
        "    # get text and embed\n",
        "    texts = [d.page_content for d in docs_batch]\n",
        "    embeds = embed.embed_documents(texts=texts)\n",
        "    # get metadata\n",
        "    metadata = [d.metadata for d in docs_batch]\n",
        "    to_upsert = zip(ids, embeds, metadata)\n",
        "    index.upsert(vectors=to_upsert)"
      ]
    },
    {
      "attachments": {},
      "cell_type": "markdown",
      "metadata": {
        "id": "8FbngTBzAAU-"
      },
      "source": [
        "## Multi-Query with LangChain"
      ]
    },
    {
      "attachments": {},
      "cell_type": "markdown",
      "metadata": {
        "id": "YVVYr13n_Ot2"
      },
      "source": [
        "Now we switch across to using our populated index as a vectorstore in Langchain."
      ]
    },
    {
      "cell_type": "code",
      "execution_count": 34,
      "metadata": {
        "colab": {
          "base_uri": "https://localhost:8080/"
        },
        "id": "0ETs0emsAh-K",
        "outputId": "0b1de24b-2f9f-48a6-d8ca-bd3d6aa007e1"
      },
      "outputs": [
        {
          "name": "stderr",
          "output_type": "stream",
          "text": [
            "/home/nurul/venvs/tfgpu_mans/lib/python3.10/site-packages/langchain/vectorstores/pinecone.py:59: UserWarning: Passing in `embedding` as a Callable is deprecated. Please pass in an Embeddings object instead.\n",
            "  warnings.warn(\n"
          ]
        }
      ],
      "source": [
        "from langchain.vectorstores import Pinecone\n",
        "\n",
        "text_field = \"text\"\n",
        "\n",
        "vectorstore = Pinecone(index, embed.embed_query, text_field)"
      ]
    },
    {
      "cell_type": "code",
      "execution_count": 35,
      "metadata": {
        "id": "nW_GCB6a3_N_"
      },
      "outputs": [],
      "source": [
        "from langchain.chat_models import ChatOpenAI\n",
        "\n",
        "llm = ChatOpenAI(temperature=0, openai_api_key=OPENAI_API_KEY)"
      ]
    },
    {
      "attachments": {},
      "cell_type": "markdown",
      "metadata": {
        "id": "1iptBAriANrD"
      },
      "source": [
        "We initialize the `MultiQueryRetriever`:"
      ]
    },
    {
      "cell_type": "code",
      "execution_count": 36,
      "metadata": {
        "id": "yYjztBp2ANHC"
      },
      "outputs": [],
      "source": [
        "from langchain.retrievers.multi_query import MultiQueryRetriever\n",
        "\n",
        "retriever = MultiQueryRetriever.from_llm(\n",
        "    retriever=vectorstore.as_retriever(), llm=llm\n",
        ")"
      ]
    },
    {
      "attachments": {},
      "cell_type": "markdown",
      "metadata": {
        "id": "H8qZCd1TAMAn"
      },
      "source": [
        "We set logging so that we can see the queries as they're generated by our LLM."
      ]
    },
    {
      "cell_type": "code",
      "execution_count": 37,
      "metadata": {
        "id": "rgV1eYU6FgX7"
      },
      "outputs": [],
      "source": [
        "# Set logging for the queries\n",
        "import logging\n",
        "\n",
        "logging.basicConfig()\n",
        "logging.getLogger(\"langchain.retrievers.multi_query\").setLevel(logging.INFO)"
      ]
    },
    {
      "attachments": {},
      "cell_type": "markdown",
      "metadata": {
        "id": "jrjwkpJWAaAn"
      },
      "source": [
        "To query with our multi-query retriever we call the `get_relevant_documents` method."
      ]
    },
    {
      "cell_type": "code",
      "execution_count": 38,
      "metadata": {
        "colab": {
          "base_uri": "https://localhost:8080/"
        },
        "id": "_DJ4cSJXFinV",
        "outputId": "265900d1-6aa7-4d28-cbbe-e2e95b7df7b4"
      },
      "outputs": [
        {
          "name": "stderr",
          "output_type": "stream",
          "text": [
            "INFO:langchain.retrievers.multi_query:Generated queries: ['1. Which courses are recommended for term 4 in the field of electrical engineering?', '2. What are the suggested courses for term 4 if I am studying electrical engineering?', '3. Can you provide a list of courses that would be beneficial for term 4 in electrical engineering?']\n"
          ]
        },
        {
          "data": {
            "text/plain": [
              "5"
            ]
          },
          "execution_count": 38,
          "metadata": {},
          "output_type": "execute_result"
        }
      ],
      "source": [
        "question = \"what courses should I take for term 4 electrical engineering?\"\n",
        "\n",
        "docs = retriever.get_relevant_documents(query=question)\n",
        "len(docs)"
      ]
    },
    {
      "attachments": {},
      "cell_type": "markdown",
      "metadata": {
        "id": "kSu1GsFfAqCd"
      },
      "source": [
        "From this we get a variety of docs retrieved by each of our queries independently. By default the `retriever` is returning `3` docs for each query — totalling `9` documents — however, as there is some overlap we actually return `6` unique docs."
      ]
    },
    {
      "cell_type": "code",
      "execution_count": 39,
      "metadata": {
        "colab": {
          "base_uri": "https://localhost:8080/"
        },
        "id": "ce5WBh6MFltP",
        "outputId": "f7b06949-e2a6-472e-eaf9-e712dc4bcca2"
      },
      "outputs": [
        {
          "data": {
            "text/plain": [
              "[Document(page_content=\"11.3 Electrical and Computer Engineering\\nIn accordance with Senate's Policy Regarding Inactive Courses, the course descriptions for courses which have not been offered in the previous three academic years and which are not scheduled to be offered in the current academic year have been removed from the following listing. For information about any of these inactive courses, please contact the Head of the Department. (or the Associate Dean (Undergraduate Studies) of the Faculty in the case of ENGI courses).\\nElectrical and Computer Engineering courses are identified by a four-digit numbering system, the first two digits signifying the following:\\nThe first digit denotes the academic term during which the course is normally offered.\\nThe second digit denotes the primary areas of study, namely:\\n0: Design\\n\\t1: Mathematics\\n\\t2: Controls\\n\\t3: Circuits\\n\\t4: Software\\n\\t5: Digital Hardware\\n\\t6: Signals & Communications\\n\\t7: Electromagnetism\\n\\t8: Power & Machines\\n\\t9: Special Topics\\n\\tElectrical and Computer Engineering courses are designated by ECE.\\nNon-departmental Engineering courses are designated by ENGI.\\nECE 3300 Circuit Analysis\\nbegins with a review of basic circuit analysis including dependent sources, then considers wye-delta transformation, bridge circuits, transient analysis of first- and second -order circuits, sinusoidal steady state analysis, phasor diagrams, sinusoidal steady-state power, complex power and maximum power transfer.\\nCO:\\nENGI 3424. Students completing a Minor in Applied Science - Electrical Engineering may successfully complete Mathematics 2260 as the co-requisite instead of ENGI 3424.\\nCR:Physics 3550\\nEQ:the former ENGI 3821\\nLH:eight 3-hour sessions per semester\\nOR:tutorial 1 hour per week\\nPR:ENGI 1040, Mathematics 1001, Mathematics 2050. Students completing a Minor in Applied Science - Electrical Engineering may complete Physics 2055 as the prerequisite instead of ENGI 1040.\\n \\nECE 3400 Foundations of Programming\\nintroduces fundamental concepts in object-oriented programming and develops vocational programming skills in C++. Topics include abstraction, types, contracts, object-oriented design, C++ language features including key elements of the standard library and practical programming and debugging skills.\\nCR:Computer Science 2510\\nEQ:the former ENGI 3891\\nLH:at least four 2-hour sessions per semester\\nOR:tutorial one hour per week\\nPR:ENGI 1020\\n \\nECE 3500 Digital Logic\", metadata={'id': '00bb7cb162b1-34'}),\n",
              " Document(page_content='Work terms shall normally be taken in the order as set out in Civil Engineering Major.\\n\\n\\n\\n**Engineering One Term** -\\n   - Required Courses:\\n     1. Chemistry 1050 or 1200\\n     2. 3 credit hours in English at the 1000 level or any Critical Reading and Writing course\\n     3. Mathematics 1000, 1001, 2050\\n     4. Physics 1050, 1051\\n   - Elective Courses:\\n     1. ENGI 1010, 1020, 1030, 1040\\n\\n\\n**Fall - Academic Term 3** -\\n   - Required Courses:\\n     1. CIV 3210, 3440, 3710, 3720\\n   - Elective Courses:\\n     1. ENGI 3101\\n     2. Mechanical and Mechatronics Engineering 3301\\n\\n\\n**Winter** -\\n   - Required Courses:\\n     1. ENGI 001W or 002W\\n\\n\\n**Spring - Academic Term 4** -\\n   - Required Courses:\\n     1. CIV 4220, 4310, 4450, 4610\\n   - Elective Courses:\\n     1. ENGI 4421\\n\\n\\n**Fall** -\\n   - Required Courses:\\n     1. ENGI 001W or 002W or 003W\\n\\n\\n**Winter - Academic Term 5** -\\n   - Required Courses:\\n     1. CIV 5110, 5230, 5320, 5460, 5510\\n\\n\\n**Spring** -\\n   - Required Courses:\\n     1. ENGI 002W or 003W or 004W\\n\\n\\n**Fall - Academic Term 6** -\\n   - Required Courses:\\n     1. CIV 6120, 6330, 6470, 6520, 6810\\n\\n\\n**Winter** -\\n   - Required Courses:\\n     1. ENGI 003W or 004W or 005W (optional)\\n\\n\\n**Spring - Academic Term 7** -\\n    - Required Courses:\\n      1. CIV 7130, 7530, 7730\\n      2. 6 credit hours from: CIV 7140, 7240, 7340, 7540, 7620, 7820 or other courses as specified by the Head of the Department of Civil Engineering\\n\\n\\n**Fall** -\\n    - Required Courses:\\n      1. ENGI 004W or 005W (optional) or 006W (optional)', metadata={'id': '00bb7cb162b1-3'}),\n",
              " Document(page_content='3 credit hours from Technical Stream Elective Courses.\\nOne free elective which must be a 2000-level or higher course from any academic unit. Selection of a course must be approved by the Head of the Department of Mechanical and Mechatronics Engineering and must be completed before Academic Term 8.\\n \\n\\tFall \\n\\tENGI 004W or 005W (optional) or 006W (optional) \\n\\t \\n\\tWinter\\nAcademic Term 8\\n\\tENGI 8152\\nME 8705\\n \\n\\t3 credit hours from Technical Stream Required Courses, Academic Term 8\\n6 credit hours from Technical Stream Elective Courses\\n \\n\\t________________', metadata={'id': '00bb7cb162b1-12'}),\n",
              " Document(page_content=\"Some of the courses offered in academic terms 3 to 8 are taken by all Engineering students, others are offered for more than one major, but most technical courses in academic terms 3 to 8 are specific to the individual majors. Students should refer to the program descriptions for the detailed course requirements in each phase of their program.\\n\\n9. Technical elective courses may be offered in terms other than those indicated in the program tables.\\n\\n10. A student who has previously met a technical elective requirement in a given semester or wishes to defer it, may request an exemption or deferral by applying to the Head of the appropriate Department. A minimum grade of 60% is required for credit to be given towards a student’s engineering program for any technical elective taken outside the normal Academic Terms as shown in the tables.\\n\\n11. A minimum grade of 60% is required for credit to be given towards a student's engineering program for any course beyond Engineering One that is taken outside the normal Academic Terms as shown in the tables.\\n\\n12. Transfer credit cannot be awarded for project or design courses in Academic Terms 7 or 8 of the Engineering program.\\n\\n13. Students registered in Academic Term 7 of any Engineering major are eligible to apply for admission to a Master of Engineering Fast-Track Option (M.Eng.). The purpose of the Option is to encourage students interested in pursuing graduate studies to begin their graduate program while still registered as an undergraduate student. While enrolled in the Option, a student may complete some of the M.Eng. Degree requirements and potentially be able to graduate earlier from the M.Eng. Program. For further details and the regulations regarding the option, refer to the School of Graduate Studies, Regulations Governing the Degree of Master of Engineering.\\n\\n________________\\n5.3 Admission Requirements to the Faculty Program\\nOn this page\\n   * 5.3.1 High School Applicants\\n   * 5.3.2 Memorial University of Newfoundland Applicants\\n   * 5.3.3 Transfer Applicants\\nAn applicant must be eligible for admission or readmission to the University in a category as defined in the Calendar section University Regulations (Undergraduate), Categories of Applicants, Admission Criteria and Other Information. In addition to meeting these regulations, an applicant to the Bachelor of Engineering program in the following admission categories must meet the requirements as indicated below.\\n________________\\n\\n\\n5.3.1 High School Applicants\\n   1. The Faculty of Engineering and Applied Science encourages applications for admission to the Bachelor of Engineering program from high school students who are new to post-secondary education, have an interest in pursuing an engineering degree and have achieved a good academic performance during high school. In addition to meeting the requirements under University Regulations (Undergraduate), Applicants Who Have Followed the High School Curriculum of Newfoundland and Labrador, Admission Criteria, performance in advanced mathematics, chemistry, physics and English is of particular interest, and grades above 80% are normally required for consideration.\", metadata={'id': '00bb7cb162b1-1'}),\n",
              " Document(page_content='All other students:\\n6 credit hours from: ECE 7200, 7410, 7420, 7500, Mechanical and Mechatronics Engineering 7204, other courses as specified by the Head of the Department of Electrical and Computer Engineering\\n \\n\\tFall \\n\\tENGI 004W or 005W (optional) or 006W (optional) \\n\\t \\n\\tWinter\\nAcademic Term 8\\n \\n\\tECE 8010, 8400\\nENGI 8152\\n \\n\\tStudents in the Biomedical Stream:\\nHuman Kinetics and Recreation 4703\\n6 credit hours from: ECE 8410, 8420, 8600, other courses as specified by the Head of the Department of Electrical and Computer Engineering\\nAll other students:\\nOne free elective which must be a 2000-level or higher course from any academic unit. Selection of a course must be approved by the Head of the Department of Electrical and Computer Engineering.\\n6 credit hours from: ECE 8210, 8410, 8420, 8600, 8620, 8900-8949, or other courses as specified by the Head of the Department of Electrical and Computer Engineering\\n \\n\\t________________', metadata={'id': '00bb7cb162b1-6'})]"
            ]
          },
          "execution_count": 39,
          "metadata": {},
          "output_type": "execute_result"
        }
      ],
      "source": [
        "docs"
      ]
    },
    {
      "attachments": {},
      "cell_type": "markdown",
      "metadata": {
        "id": "KLMwfZPfBF89"
      },
      "source": [
        "## Adding the Generation in RAG"
      ]
    },
    {
      "attachments": {},
      "cell_type": "markdown",
      "metadata": {
        "id": "X79eNNL_BM4G"
      },
      "source": [
        "So far we've built a multi-query powered **R**etrieval **A**ugmentation chain. Now, we need to add **G**eneration."
      ]
    },
    {
      "cell_type": "code",
      "execution_count": 50,
      "metadata": {
        "id": "jNnXYOtqypiz"
      },
      "outputs": [],
      "source": [
        "from langchain.prompts import PromptTemplate\n",
        "from langchain.chains import LLMChain\n",
        "\n",
        "QA_PROMPT = PromptTemplate(\n",
        "    input_variables=[\"query\", \"contexts\"],\n",
        "    template=\"\"\"\n",
        "You are a helpful assistant who answers user queries using the contexts provided. \n",
        "## Unik-\n",
        "- You are Unik, an AI Academic Advisor for the students at Memorial University of Newfoundland (MUN).\n",
        "- Unik will **Focus** on providing academic advising to undergraduate students at (MUN).\n",
        "- Unik will **Specialize** in providing information and knowledge about courses and programs (majors, minors, joint majors, honors, etc.) across various departments and faculties.\n",
        "\n",
        "## Creators\n",
        "- When asked, Unik must **Acknowledge and ** its development and creation by a few undergraduate students in Physics and Engineering at MUN.\n",
        "- Unik will respond to **Direct** inquiries or feedback about Unik or its creators by redirecting the users to founders@unik.com via email.\n",
        "\n",
        "## Communication Guidelines\n",
        "- Unik will talk in the style of a real human Academic Advisor appointed at the university.\n",
        "- Unik will always empathize with the user, and be kind. \n",
        "- Unik will **Avoid** engaging in queries containing vulgar, explicit, harmful, sexual, illegal, immoral, racist, or homophobic language, or references to drugs.\n",
        "- Unik will  **Refrain** from responding to queries outside the academic advising scope or irrelevant to your knowledge base.\n",
        "- Unik will NEVER display the process of how it found an answer in any of its responses.\n",
        "- Unik will NEVER display or reference its data sources to the users in any of its responses.\n",
        "- If a user asks about the source of the data, Unik will tell the user that the data was collected from the publicly available University Calendar at MUN, and will attach a link(in plain text format) relevant to the user query from the knowledgebase.\n",
        "- Unik will  **Maintain** a friendly and human-like tone in responses.\n",
        "- Unik will  **Tailor** specific responses to each specific query.\n",
        "- Unik will  **Ensure** responses are relevant, accurate, and personalized.\n",
        "-Unik should understand that Computer Science(CS) and Computer Engineering(CE) are different majors and in different faculties and should look for results accordingly when a user asks.\n",
        "\n",
        "## Accuracy and Content Retrieval\n",
        "- (**IMPORTANT**) Unik will analyze the question smartly to understand what specific courses, programs, or other piece of information the user is specifically looking for and then only provide specific information regarding those specific courses, programs, or other piece of information. For example, for a query about Electrical Engineering, the answer should never mix with anything in the Mechanical Engineering, for Computer Science the answer should never mix with anything in the Computer Engineering, and vice versa, and so on.\n",
        "- Unik should ALWAYS understand the user query as a whole and NEVER look at the question partially to respond to it.\n",
        "- Unik must **Ensure** that the information aligns with the user query.\n",
        "- Unik must **Recheck** answers for accuracy against the knowledgebase before displaying responses.\n",
        "\n",
        "## Query Interpretation\n",
        "- Unik will only form a response with use of information that is most relevant to the user query.\n",
        "- Unik will **Analyze and interpret** the structure and meaning of queries using the chain of thought method to find the perfect answer to anything.\n",
        "- Unik will **Understand and respond** effectively to complex or unclear student inquiries.\n",
        "- Unik will never display to the users the process of how it found an answer.\n",
        "\n",
        "## Response Structure\n",
        "- Unik must **Provide** concise overviews for course inquiries, emphasizing key details, and the requirements to take that course.\n",
        "- Unik must **Offer** comprehensive overviews for program inquiries, including structure, requirements, and unique features.\n",
        "- Unik must **Conclude** responses with an invitation for further inquiries or additional academic guidance.\n",
        "\n",
        "## Course ID Information\n",
        "- Unik will **Identify** courses with the prefix of 3-4 letters followed by a 4-digit number (e.g., BUSI 1000, PHYS 1050, ECE 5000, etc.).\n",
        "\n",
        "##Response to inquiries about programs,majors,minors, honors, terms, etc\n",
        "- Unik must give a bulletpointed markdown language overview of the program in summarized form. \n",
        "- Unik MUST only include the names of the courses when describing the program and ONLY describe the courses or write the specifics of the courses when asked by the user. For example it should be in this form-\n",
        "\"\n",
        "In Academic Term 4 for Mechanical Engineering at Memorial University of Newfoundland, the following courses are required:\n",
        "\n",
        "-**ENGI 4430**\n",
        "-**ME 4302** \n",
        "-**ME 4402** \n",
        "-**ME 4501** \n",
        "-**ME 4601**\"\n",
        "\n",
        "## Response to inquiries about courses\n",
        "- Unik must **Include** Pre-requisites (PR), Co-Requisites (CR), and Equivalent (EQ) when discussing a course for the first time.\n",
        "- Unik must **Offer** more detailed information or other inquiries at the end of its responses.\n",
        "\n",
        "    Contexts:\n",
        "    {contexts}\n",
        "\n",
        "    Question: {query}\"\"\",\n",
        ")\n",
        "\n",
        "# Chain\n",
        "qa_chain = LLMChain(llm=llm, prompt=QA_PROMPT)"
      ]
    },
    {
      "cell_type": "code",
      "execution_count": 51,
      "metadata": {
        "colab": {
          "base_uri": "https://localhost:8080/",
          "height": 123
        },
        "id": "h6GVEZkhytdM",
        "outputId": "f03086b8-8d30-4d6e-a723-833ffecbcf8e"
      },
      "outputs": [
        {
          "ename": "InvalidRequestError",
          "evalue": "This model's maximum context length is 4097 tokens. However, your messages resulted in 4524 tokens. Please reduce the length of the messages.",
          "output_type": "error",
          "traceback": [
            "\u001b[0;31m---------------------------------------------------------------------------\u001b[0m",
            "\u001b[0;31mInvalidRequestError\u001b[0m                       Traceback (most recent call last)",
            "\u001b[1;32m/home/nurul/Downloads/Startup/chatbot_langchain/10-langchain-multi-query.ipynb Cell 33\u001b[0m line \u001b[0;36m1\n\u001b[0;32m----> <a href='vscode-notebook-cell:/home/nurul/Downloads/Startup/chatbot_langchain/10-langchain-multi-query.ipynb#X43sZmlsZQ%3D%3D?line=0'>1</a>\u001b[0m out \u001b[39m=\u001b[39m qa_chain(\n\u001b[1;32m      <a href='vscode-notebook-cell:/home/nurul/Downloads/Startup/chatbot_langchain/10-langchain-multi-query.ipynb#X43sZmlsZQ%3D%3D?line=1'>2</a>\u001b[0m     inputs\u001b[39m=\u001b[39;49m{\n\u001b[1;32m      <a href='vscode-notebook-cell:/home/nurul/Downloads/Startup/chatbot_langchain/10-langchain-multi-query.ipynb#X43sZmlsZQ%3D%3D?line=2'>3</a>\u001b[0m         \u001b[39m\"\u001b[39;49m\u001b[39mquery\u001b[39;49m\u001b[39m\"\u001b[39;49m: question,\n\u001b[1;32m      <a href='vscode-notebook-cell:/home/nurul/Downloads/Startup/chatbot_langchain/10-langchain-multi-query.ipynb#X43sZmlsZQ%3D%3D?line=3'>4</a>\u001b[0m         \u001b[39m\"\u001b[39;49m\u001b[39mcontexts\u001b[39;49m\u001b[39m\"\u001b[39;49m: \u001b[39m\"\u001b[39;49m\u001b[39m\\n\u001b[39;49;00m\u001b[39m---\u001b[39;49m\u001b[39m\\n\u001b[39;49;00m\u001b[39m\"\u001b[39;49m\u001b[39m.\u001b[39;49mjoin([d\u001b[39m.\u001b[39;49mpage_content \u001b[39mfor\u001b[39;49;00m d \u001b[39min\u001b[39;49;00m docs])\n\u001b[1;32m      <a href='vscode-notebook-cell:/home/nurul/Downloads/Startup/chatbot_langchain/10-langchain-multi-query.ipynb#X43sZmlsZQ%3D%3D?line=4'>5</a>\u001b[0m     }\n\u001b[1;32m      <a href='vscode-notebook-cell:/home/nurul/Downloads/Startup/chatbot_langchain/10-langchain-multi-query.ipynb#X43sZmlsZQ%3D%3D?line=5'>6</a>\u001b[0m )\n\u001b[1;32m      <a href='vscode-notebook-cell:/home/nurul/Downloads/Startup/chatbot_langchain/10-langchain-multi-query.ipynb#X43sZmlsZQ%3D%3D?line=6'>7</a>\u001b[0m out[\u001b[39m\"\u001b[39m\u001b[39mtext\u001b[39m\u001b[39m\"\u001b[39m]\n",
            "File \u001b[0;32m~/venvs/tfgpu_mans/lib/python3.10/site-packages/langchain/chains/base.py:310\u001b[0m, in \u001b[0;36mChain.__call__\u001b[0;34m(self, inputs, return_only_outputs, callbacks, tags, metadata, run_name, include_run_info)\u001b[0m\n\u001b[1;32m    308\u001b[0m \u001b[39mexcept\u001b[39;00m \u001b[39mBaseException\u001b[39;00m \u001b[39mas\u001b[39;00m e:\n\u001b[1;32m    309\u001b[0m     run_manager\u001b[39m.\u001b[39mon_chain_error(e)\n\u001b[0;32m--> 310\u001b[0m     \u001b[39mraise\u001b[39;00m e\n\u001b[1;32m    311\u001b[0m run_manager\u001b[39m.\u001b[39mon_chain_end(outputs)\n\u001b[1;32m    312\u001b[0m final_outputs: Dict[\u001b[39mstr\u001b[39m, Any] \u001b[39m=\u001b[39m \u001b[39mself\u001b[39m\u001b[39m.\u001b[39mprep_outputs(\n\u001b[1;32m    313\u001b[0m     inputs, outputs, return_only_outputs\n\u001b[1;32m    314\u001b[0m )\n",
            "File \u001b[0;32m~/venvs/tfgpu_mans/lib/python3.10/site-packages/langchain/chains/base.py:304\u001b[0m, in \u001b[0;36mChain.__call__\u001b[0;34m(self, inputs, return_only_outputs, callbacks, tags, metadata, run_name, include_run_info)\u001b[0m\n\u001b[1;32m    297\u001b[0m run_manager \u001b[39m=\u001b[39m callback_manager\u001b[39m.\u001b[39mon_chain_start(\n\u001b[1;32m    298\u001b[0m     dumpd(\u001b[39mself\u001b[39m),\n\u001b[1;32m    299\u001b[0m     inputs,\n\u001b[1;32m    300\u001b[0m     name\u001b[39m=\u001b[39mrun_name,\n\u001b[1;32m    301\u001b[0m )\n\u001b[1;32m    302\u001b[0m \u001b[39mtry\u001b[39;00m:\n\u001b[1;32m    303\u001b[0m     outputs \u001b[39m=\u001b[39m (\n\u001b[0;32m--> 304\u001b[0m         \u001b[39mself\u001b[39;49m\u001b[39m.\u001b[39;49m_call(inputs, run_manager\u001b[39m=\u001b[39;49mrun_manager)\n\u001b[1;32m    305\u001b[0m         \u001b[39mif\u001b[39;00m new_arg_supported\n\u001b[1;32m    306\u001b[0m         \u001b[39melse\u001b[39;00m \u001b[39mself\u001b[39m\u001b[39m.\u001b[39m_call(inputs)\n\u001b[1;32m    307\u001b[0m     )\n\u001b[1;32m    308\u001b[0m \u001b[39mexcept\u001b[39;00m \u001b[39mBaseException\u001b[39;00m \u001b[39mas\u001b[39;00m e:\n\u001b[1;32m    309\u001b[0m     run_manager\u001b[39m.\u001b[39mon_chain_error(e)\n",
            "File \u001b[0;32m~/venvs/tfgpu_mans/lib/python3.10/site-packages/langchain/chains/llm.py:108\u001b[0m, in \u001b[0;36mLLMChain._call\u001b[0;34m(self, inputs, run_manager)\u001b[0m\n\u001b[1;32m    103\u001b[0m \u001b[39mdef\u001b[39;00m \u001b[39m_call\u001b[39m(\n\u001b[1;32m    104\u001b[0m     \u001b[39mself\u001b[39m,\n\u001b[1;32m    105\u001b[0m     inputs: Dict[\u001b[39mstr\u001b[39m, Any],\n\u001b[1;32m    106\u001b[0m     run_manager: Optional[CallbackManagerForChainRun] \u001b[39m=\u001b[39m \u001b[39mNone\u001b[39;00m,\n\u001b[1;32m    107\u001b[0m ) \u001b[39m-\u001b[39m\u001b[39m>\u001b[39m Dict[\u001b[39mstr\u001b[39m, \u001b[39mstr\u001b[39m]:\n\u001b[0;32m--> 108\u001b[0m     response \u001b[39m=\u001b[39m \u001b[39mself\u001b[39;49m\u001b[39m.\u001b[39;49mgenerate([inputs], run_manager\u001b[39m=\u001b[39;49mrun_manager)\n\u001b[1;32m    109\u001b[0m     \u001b[39mreturn\u001b[39;00m \u001b[39mself\u001b[39m\u001b[39m.\u001b[39mcreate_outputs(response)[\u001b[39m0\u001b[39m]\n",
            "File \u001b[0;32m~/venvs/tfgpu_mans/lib/python3.10/site-packages/langchain/chains/llm.py:120\u001b[0m, in \u001b[0;36mLLMChain.generate\u001b[0;34m(self, input_list, run_manager)\u001b[0m\n\u001b[1;32m    118\u001b[0m callbacks \u001b[39m=\u001b[39m run_manager\u001b[39m.\u001b[39mget_child() \u001b[39mif\u001b[39;00m run_manager \u001b[39melse\u001b[39;00m \u001b[39mNone\u001b[39;00m\n\u001b[1;32m    119\u001b[0m \u001b[39mif\u001b[39;00m \u001b[39misinstance\u001b[39m(\u001b[39mself\u001b[39m\u001b[39m.\u001b[39mllm, BaseLanguageModel):\n\u001b[0;32m--> 120\u001b[0m     \u001b[39mreturn\u001b[39;00m \u001b[39mself\u001b[39;49m\u001b[39m.\u001b[39;49mllm\u001b[39m.\u001b[39;49mgenerate_prompt(\n\u001b[1;32m    121\u001b[0m         prompts,\n\u001b[1;32m    122\u001b[0m         stop,\n\u001b[1;32m    123\u001b[0m         callbacks\u001b[39m=\u001b[39;49mcallbacks,\n\u001b[1;32m    124\u001b[0m         \u001b[39m*\u001b[39;49m\u001b[39m*\u001b[39;49m\u001b[39mself\u001b[39;49m\u001b[39m.\u001b[39;49mllm_kwargs,\n\u001b[1;32m    125\u001b[0m     )\n\u001b[1;32m    126\u001b[0m \u001b[39melse\u001b[39;00m:\n\u001b[1;32m    127\u001b[0m     results \u001b[39m=\u001b[39m \u001b[39mself\u001b[39m\u001b[39m.\u001b[39mllm\u001b[39m.\u001b[39mbind(stop\u001b[39m=\u001b[39mstop, \u001b[39m*\u001b[39m\u001b[39m*\u001b[39m\u001b[39mself\u001b[39m\u001b[39m.\u001b[39mllm_kwargs)\u001b[39m.\u001b[39mbatch(\n\u001b[1;32m    128\u001b[0m         cast(List, prompts), {\u001b[39m\"\u001b[39m\u001b[39mcallbacks\u001b[39m\u001b[39m\"\u001b[39m: callbacks}\n\u001b[1;32m    129\u001b[0m     )\n",
            "File \u001b[0;32m~/venvs/tfgpu_mans/lib/python3.10/site-packages/langchain/chat_models/base.py:459\u001b[0m, in \u001b[0;36mBaseChatModel.generate_prompt\u001b[0;34m(self, prompts, stop, callbacks, **kwargs)\u001b[0m\n\u001b[1;32m    451\u001b[0m \u001b[39mdef\u001b[39;00m \u001b[39mgenerate_prompt\u001b[39m(\n\u001b[1;32m    452\u001b[0m     \u001b[39mself\u001b[39m,\n\u001b[1;32m    453\u001b[0m     prompts: List[PromptValue],\n\u001b[0;32m   (...)\u001b[0m\n\u001b[1;32m    456\u001b[0m     \u001b[39m*\u001b[39m\u001b[39m*\u001b[39mkwargs: Any,\n\u001b[1;32m    457\u001b[0m ) \u001b[39m-\u001b[39m\u001b[39m>\u001b[39m LLMResult:\n\u001b[1;32m    458\u001b[0m     prompt_messages \u001b[39m=\u001b[39m [p\u001b[39m.\u001b[39mto_messages() \u001b[39mfor\u001b[39;00m p \u001b[39min\u001b[39;00m prompts]\n\u001b[0;32m--> 459\u001b[0m     \u001b[39mreturn\u001b[39;00m \u001b[39mself\u001b[39;49m\u001b[39m.\u001b[39;49mgenerate(prompt_messages, stop\u001b[39m=\u001b[39;49mstop, callbacks\u001b[39m=\u001b[39;49mcallbacks, \u001b[39m*\u001b[39;49m\u001b[39m*\u001b[39;49mkwargs)\n",
            "File \u001b[0;32m~/venvs/tfgpu_mans/lib/python3.10/site-packages/langchain/chat_models/base.py:349\u001b[0m, in \u001b[0;36mBaseChatModel.generate\u001b[0;34m(self, messages, stop, callbacks, tags, metadata, run_name, **kwargs)\u001b[0m\n\u001b[1;32m    347\u001b[0m         \u001b[39mif\u001b[39;00m run_managers:\n\u001b[1;32m    348\u001b[0m             run_managers[i]\u001b[39m.\u001b[39mon_llm_error(e)\n\u001b[0;32m--> 349\u001b[0m         \u001b[39mraise\u001b[39;00m e\n\u001b[1;32m    350\u001b[0m flattened_outputs \u001b[39m=\u001b[39m [\n\u001b[1;32m    351\u001b[0m     LLMResult(generations\u001b[39m=\u001b[39m[res\u001b[39m.\u001b[39mgenerations], llm_output\u001b[39m=\u001b[39mres\u001b[39m.\u001b[39mllm_output)\n\u001b[1;32m    352\u001b[0m     \u001b[39mfor\u001b[39;00m res \u001b[39min\u001b[39;00m results\n\u001b[1;32m    353\u001b[0m ]\n\u001b[1;32m    354\u001b[0m llm_output \u001b[39m=\u001b[39m \u001b[39mself\u001b[39m\u001b[39m.\u001b[39m_combine_llm_outputs([res\u001b[39m.\u001b[39mllm_output \u001b[39mfor\u001b[39;00m res \u001b[39min\u001b[39;00m results])\n",
            "File \u001b[0;32m~/venvs/tfgpu_mans/lib/python3.10/site-packages/langchain/chat_models/base.py:339\u001b[0m, in \u001b[0;36mBaseChatModel.generate\u001b[0;34m(self, messages, stop, callbacks, tags, metadata, run_name, **kwargs)\u001b[0m\n\u001b[1;32m    336\u001b[0m \u001b[39mfor\u001b[39;00m i, m \u001b[39min\u001b[39;00m \u001b[39menumerate\u001b[39m(messages):\n\u001b[1;32m    337\u001b[0m     \u001b[39mtry\u001b[39;00m:\n\u001b[1;32m    338\u001b[0m         results\u001b[39m.\u001b[39mappend(\n\u001b[0;32m--> 339\u001b[0m             \u001b[39mself\u001b[39;49m\u001b[39m.\u001b[39;49m_generate_with_cache(\n\u001b[1;32m    340\u001b[0m                 m,\n\u001b[1;32m    341\u001b[0m                 stop\u001b[39m=\u001b[39;49mstop,\n\u001b[1;32m    342\u001b[0m                 run_manager\u001b[39m=\u001b[39;49mrun_managers[i] \u001b[39mif\u001b[39;49;00m run_managers \u001b[39melse\u001b[39;49;00m \u001b[39mNone\u001b[39;49;00m,\n\u001b[1;32m    343\u001b[0m                 \u001b[39m*\u001b[39;49m\u001b[39m*\u001b[39;49mkwargs,\n\u001b[1;32m    344\u001b[0m             )\n\u001b[1;32m    345\u001b[0m         )\n\u001b[1;32m    346\u001b[0m     \u001b[39mexcept\u001b[39;00m \u001b[39mBaseException\u001b[39;00m \u001b[39mas\u001b[39;00m e:\n\u001b[1;32m    347\u001b[0m         \u001b[39mif\u001b[39;00m run_managers:\n",
            "File \u001b[0;32m~/venvs/tfgpu_mans/lib/python3.10/site-packages/langchain/chat_models/base.py:492\u001b[0m, in \u001b[0;36mBaseChatModel._generate_with_cache\u001b[0;34m(self, messages, stop, run_manager, **kwargs)\u001b[0m\n\u001b[1;32m    488\u001b[0m     \u001b[39mraise\u001b[39;00m \u001b[39mValueError\u001b[39;00m(\n\u001b[1;32m    489\u001b[0m         \u001b[39m\"\u001b[39m\u001b[39mAsked to cache, but no cache found at `langchain.cache`.\u001b[39m\u001b[39m\"\u001b[39m\n\u001b[1;32m    490\u001b[0m     )\n\u001b[1;32m    491\u001b[0m \u001b[39mif\u001b[39;00m new_arg_supported:\n\u001b[0;32m--> 492\u001b[0m     \u001b[39mreturn\u001b[39;00m \u001b[39mself\u001b[39;49m\u001b[39m.\u001b[39;49m_generate(\n\u001b[1;32m    493\u001b[0m         messages, stop\u001b[39m=\u001b[39;49mstop, run_manager\u001b[39m=\u001b[39;49mrun_manager, \u001b[39m*\u001b[39;49m\u001b[39m*\u001b[39;49mkwargs\n\u001b[1;32m    494\u001b[0m     )\n\u001b[1;32m    495\u001b[0m \u001b[39melse\u001b[39;00m:\n\u001b[1;32m    496\u001b[0m     \u001b[39mreturn\u001b[39;00m \u001b[39mself\u001b[39m\u001b[39m.\u001b[39m_generate(messages, stop\u001b[39m=\u001b[39mstop, \u001b[39m*\u001b[39m\u001b[39m*\u001b[39mkwargs)\n",
            "File \u001b[0;32m~/venvs/tfgpu_mans/lib/python3.10/site-packages/langchain/chat_models/openai.py:422\u001b[0m, in \u001b[0;36mChatOpenAI._generate\u001b[0;34m(self, messages, stop, run_manager, stream, **kwargs)\u001b[0m\n\u001b[1;32m    420\u001b[0m message_dicts, params \u001b[39m=\u001b[39m \u001b[39mself\u001b[39m\u001b[39m.\u001b[39m_create_message_dicts(messages, stop)\n\u001b[1;32m    421\u001b[0m params \u001b[39m=\u001b[39m {\u001b[39m*\u001b[39m\u001b[39m*\u001b[39mparams, \u001b[39m*\u001b[39m\u001b[39m*\u001b[39mkwargs}\n\u001b[0;32m--> 422\u001b[0m response \u001b[39m=\u001b[39m \u001b[39mself\u001b[39;49m\u001b[39m.\u001b[39;49mcompletion_with_retry(\n\u001b[1;32m    423\u001b[0m     messages\u001b[39m=\u001b[39;49mmessage_dicts, run_manager\u001b[39m=\u001b[39;49mrun_manager, \u001b[39m*\u001b[39;49m\u001b[39m*\u001b[39;49mparams\n\u001b[1;32m    424\u001b[0m )\n\u001b[1;32m    425\u001b[0m \u001b[39mreturn\u001b[39;00m \u001b[39mself\u001b[39m\u001b[39m.\u001b[39m_create_chat_result(response)\n",
            "File \u001b[0;32m~/venvs/tfgpu_mans/lib/python3.10/site-packages/langchain/chat_models/openai.py:352\u001b[0m, in \u001b[0;36mChatOpenAI.completion_with_retry\u001b[0;34m(self, run_manager, **kwargs)\u001b[0m\n\u001b[1;32m    348\u001b[0m \u001b[39m@retry_decorator\u001b[39m\n\u001b[1;32m    349\u001b[0m \u001b[39mdef\u001b[39;00m \u001b[39m_completion_with_retry\u001b[39m(\u001b[39m*\u001b[39m\u001b[39m*\u001b[39mkwargs: Any) \u001b[39m-\u001b[39m\u001b[39m>\u001b[39m Any:\n\u001b[1;32m    350\u001b[0m     \u001b[39mreturn\u001b[39;00m \u001b[39mself\u001b[39m\u001b[39m.\u001b[39mclient\u001b[39m.\u001b[39mcreate(\u001b[39m*\u001b[39m\u001b[39m*\u001b[39mkwargs)\n\u001b[0;32m--> 352\u001b[0m \u001b[39mreturn\u001b[39;00m _completion_with_retry(\u001b[39m*\u001b[39;49m\u001b[39m*\u001b[39;49mkwargs)\n",
            "File \u001b[0;32m~/venvs/tfgpu_mans/lib/python3.10/site-packages/tenacity/__init__.py:289\u001b[0m, in \u001b[0;36mBaseRetrying.wraps.<locals>.wrapped_f\u001b[0;34m(*args, **kw)\u001b[0m\n\u001b[1;32m    287\u001b[0m \u001b[39m@functools\u001b[39m\u001b[39m.\u001b[39mwraps(f)\n\u001b[1;32m    288\u001b[0m \u001b[39mdef\u001b[39;00m \u001b[39mwrapped_f\u001b[39m(\u001b[39m*\u001b[39margs: t\u001b[39m.\u001b[39mAny, \u001b[39m*\u001b[39m\u001b[39m*\u001b[39mkw: t\u001b[39m.\u001b[39mAny) \u001b[39m-\u001b[39m\u001b[39m>\u001b[39m t\u001b[39m.\u001b[39mAny:\n\u001b[0;32m--> 289\u001b[0m     \u001b[39mreturn\u001b[39;00m \u001b[39mself\u001b[39;49m(f, \u001b[39m*\u001b[39;49margs, \u001b[39m*\u001b[39;49m\u001b[39m*\u001b[39;49mkw)\n",
            "File \u001b[0;32m~/venvs/tfgpu_mans/lib/python3.10/site-packages/tenacity/__init__.py:379\u001b[0m, in \u001b[0;36mRetrying.__call__\u001b[0;34m(self, fn, *args, **kwargs)\u001b[0m\n\u001b[1;32m    377\u001b[0m retry_state \u001b[39m=\u001b[39m RetryCallState(retry_object\u001b[39m=\u001b[39m\u001b[39mself\u001b[39m, fn\u001b[39m=\u001b[39mfn, args\u001b[39m=\u001b[39margs, kwargs\u001b[39m=\u001b[39mkwargs)\n\u001b[1;32m    378\u001b[0m \u001b[39mwhile\u001b[39;00m \u001b[39mTrue\u001b[39;00m:\n\u001b[0;32m--> 379\u001b[0m     do \u001b[39m=\u001b[39m \u001b[39mself\u001b[39;49m\u001b[39m.\u001b[39;49miter(retry_state\u001b[39m=\u001b[39;49mretry_state)\n\u001b[1;32m    380\u001b[0m     \u001b[39mif\u001b[39;00m \u001b[39misinstance\u001b[39m(do, DoAttempt):\n\u001b[1;32m    381\u001b[0m         \u001b[39mtry\u001b[39;00m:\n",
            "File \u001b[0;32m~/venvs/tfgpu_mans/lib/python3.10/site-packages/tenacity/__init__.py:314\u001b[0m, in \u001b[0;36mBaseRetrying.iter\u001b[0;34m(self, retry_state)\u001b[0m\n\u001b[1;32m    312\u001b[0m is_explicit_retry \u001b[39m=\u001b[39m fut\u001b[39m.\u001b[39mfailed \u001b[39mand\u001b[39;00m \u001b[39misinstance\u001b[39m(fut\u001b[39m.\u001b[39mexception(), TryAgain)\n\u001b[1;32m    313\u001b[0m \u001b[39mif\u001b[39;00m \u001b[39mnot\u001b[39;00m (is_explicit_retry \u001b[39mor\u001b[39;00m \u001b[39mself\u001b[39m\u001b[39m.\u001b[39mretry(retry_state)):\n\u001b[0;32m--> 314\u001b[0m     \u001b[39mreturn\u001b[39;00m fut\u001b[39m.\u001b[39;49mresult()\n\u001b[1;32m    316\u001b[0m \u001b[39mif\u001b[39;00m \u001b[39mself\u001b[39m\u001b[39m.\u001b[39mafter \u001b[39mis\u001b[39;00m \u001b[39mnot\u001b[39;00m \u001b[39mNone\u001b[39;00m:\n\u001b[1;32m    317\u001b[0m     \u001b[39mself\u001b[39m\u001b[39m.\u001b[39mafter(retry_state)\n",
            "File \u001b[0;32m/usr/lib/python3.10/concurrent/futures/_base.py:451\u001b[0m, in \u001b[0;36mFuture.result\u001b[0;34m(self, timeout)\u001b[0m\n\u001b[1;32m    449\u001b[0m     \u001b[39mraise\u001b[39;00m CancelledError()\n\u001b[1;32m    450\u001b[0m \u001b[39melif\u001b[39;00m \u001b[39mself\u001b[39m\u001b[39m.\u001b[39m_state \u001b[39m==\u001b[39m FINISHED:\n\u001b[0;32m--> 451\u001b[0m     \u001b[39mreturn\u001b[39;00m \u001b[39mself\u001b[39;49m\u001b[39m.\u001b[39;49m__get_result()\n\u001b[1;32m    453\u001b[0m \u001b[39mself\u001b[39m\u001b[39m.\u001b[39m_condition\u001b[39m.\u001b[39mwait(timeout)\n\u001b[1;32m    455\u001b[0m \u001b[39mif\u001b[39;00m \u001b[39mself\u001b[39m\u001b[39m.\u001b[39m_state \u001b[39min\u001b[39;00m [CANCELLED, CANCELLED_AND_NOTIFIED]:\n",
            "File \u001b[0;32m/usr/lib/python3.10/concurrent/futures/_base.py:403\u001b[0m, in \u001b[0;36mFuture.__get_result\u001b[0;34m(self)\u001b[0m\n\u001b[1;32m    401\u001b[0m \u001b[39mif\u001b[39;00m \u001b[39mself\u001b[39m\u001b[39m.\u001b[39m_exception:\n\u001b[1;32m    402\u001b[0m     \u001b[39mtry\u001b[39;00m:\n\u001b[0;32m--> 403\u001b[0m         \u001b[39mraise\u001b[39;00m \u001b[39mself\u001b[39m\u001b[39m.\u001b[39m_exception\n\u001b[1;32m    404\u001b[0m     \u001b[39mfinally\u001b[39;00m:\n\u001b[1;32m    405\u001b[0m         \u001b[39m# Break a reference cycle with the exception in self._exception\u001b[39;00m\n\u001b[1;32m    406\u001b[0m         \u001b[39mself\u001b[39m \u001b[39m=\u001b[39m \u001b[39mNone\u001b[39;00m\n",
            "File \u001b[0;32m~/venvs/tfgpu_mans/lib/python3.10/site-packages/tenacity/__init__.py:382\u001b[0m, in \u001b[0;36mRetrying.__call__\u001b[0;34m(self, fn, *args, **kwargs)\u001b[0m\n\u001b[1;32m    380\u001b[0m \u001b[39mif\u001b[39;00m \u001b[39misinstance\u001b[39m(do, DoAttempt):\n\u001b[1;32m    381\u001b[0m     \u001b[39mtry\u001b[39;00m:\n\u001b[0;32m--> 382\u001b[0m         result \u001b[39m=\u001b[39m fn(\u001b[39m*\u001b[39;49margs, \u001b[39m*\u001b[39;49m\u001b[39m*\u001b[39;49mkwargs)\n\u001b[1;32m    383\u001b[0m     \u001b[39mexcept\u001b[39;00m \u001b[39mBaseException\u001b[39;00m:  \u001b[39m# noqa: B902\u001b[39;00m\n\u001b[1;32m    384\u001b[0m         retry_state\u001b[39m.\u001b[39mset_exception(sys\u001b[39m.\u001b[39mexc_info())  \u001b[39m# type: ignore[arg-type]\u001b[39;00m\n",
            "File \u001b[0;32m~/venvs/tfgpu_mans/lib/python3.10/site-packages/langchain/chat_models/openai.py:350\u001b[0m, in \u001b[0;36mChatOpenAI.completion_with_retry.<locals>._completion_with_retry\u001b[0;34m(**kwargs)\u001b[0m\n\u001b[1;32m    348\u001b[0m \u001b[39m@retry_decorator\u001b[39m\n\u001b[1;32m    349\u001b[0m \u001b[39mdef\u001b[39;00m \u001b[39m_completion_with_retry\u001b[39m(\u001b[39m*\u001b[39m\u001b[39m*\u001b[39mkwargs: Any) \u001b[39m-\u001b[39m\u001b[39m>\u001b[39m Any:\n\u001b[0;32m--> 350\u001b[0m     \u001b[39mreturn\u001b[39;00m \u001b[39mself\u001b[39;49m\u001b[39m.\u001b[39;49mclient\u001b[39m.\u001b[39;49mcreate(\u001b[39m*\u001b[39;49m\u001b[39m*\u001b[39;49mkwargs)\n",
            "File \u001b[0;32m~/venvs/tfgpu_mans/lib/python3.10/site-packages/openai/api_resources/chat_completion.py:25\u001b[0m, in \u001b[0;36mChatCompletion.create\u001b[0;34m(cls, *args, **kwargs)\u001b[0m\n\u001b[1;32m     23\u001b[0m \u001b[39mwhile\u001b[39;00m \u001b[39mTrue\u001b[39;00m:\n\u001b[1;32m     24\u001b[0m     \u001b[39mtry\u001b[39;00m:\n\u001b[0;32m---> 25\u001b[0m         \u001b[39mreturn\u001b[39;00m \u001b[39msuper\u001b[39;49m()\u001b[39m.\u001b[39;49mcreate(\u001b[39m*\u001b[39;49margs, \u001b[39m*\u001b[39;49m\u001b[39m*\u001b[39;49mkwargs)\n\u001b[1;32m     26\u001b[0m     \u001b[39mexcept\u001b[39;00m TryAgain \u001b[39mas\u001b[39;00m e:\n\u001b[1;32m     27\u001b[0m         \u001b[39mif\u001b[39;00m timeout \u001b[39mis\u001b[39;00m \u001b[39mnot\u001b[39;00m \u001b[39mNone\u001b[39;00m \u001b[39mand\u001b[39;00m time\u001b[39m.\u001b[39mtime() \u001b[39m>\u001b[39m start \u001b[39m+\u001b[39m timeout:\n",
            "File \u001b[0;32m~/venvs/tfgpu_mans/lib/python3.10/site-packages/openai/api_resources/abstract/engine_api_resource.py:153\u001b[0m, in \u001b[0;36mEngineAPIResource.create\u001b[0;34m(cls, api_key, api_base, api_type, request_id, api_version, organization, **params)\u001b[0m\n\u001b[1;32m    127\u001b[0m \u001b[39m@classmethod\u001b[39m\n\u001b[1;32m    128\u001b[0m \u001b[39mdef\u001b[39;00m \u001b[39mcreate\u001b[39m(\n\u001b[1;32m    129\u001b[0m     \u001b[39mcls\u001b[39m,\n\u001b[0;32m   (...)\u001b[0m\n\u001b[1;32m    136\u001b[0m     \u001b[39m*\u001b[39m\u001b[39m*\u001b[39mparams,\n\u001b[1;32m    137\u001b[0m ):\n\u001b[1;32m    138\u001b[0m     (\n\u001b[1;32m    139\u001b[0m         deployment_id,\n\u001b[1;32m    140\u001b[0m         engine,\n\u001b[0;32m   (...)\u001b[0m\n\u001b[1;32m    150\u001b[0m         api_key, api_base, api_type, api_version, organization, \u001b[39m*\u001b[39m\u001b[39m*\u001b[39mparams\n\u001b[1;32m    151\u001b[0m     )\n\u001b[0;32m--> 153\u001b[0m     response, _, api_key \u001b[39m=\u001b[39m requestor\u001b[39m.\u001b[39;49mrequest(\n\u001b[1;32m    154\u001b[0m         \u001b[39m\"\u001b[39;49m\u001b[39mpost\u001b[39;49m\u001b[39m\"\u001b[39;49m,\n\u001b[1;32m    155\u001b[0m         url,\n\u001b[1;32m    156\u001b[0m         params\u001b[39m=\u001b[39;49mparams,\n\u001b[1;32m    157\u001b[0m         headers\u001b[39m=\u001b[39;49mheaders,\n\u001b[1;32m    158\u001b[0m         stream\u001b[39m=\u001b[39;49mstream,\n\u001b[1;32m    159\u001b[0m         request_id\u001b[39m=\u001b[39;49mrequest_id,\n\u001b[1;32m    160\u001b[0m         request_timeout\u001b[39m=\u001b[39;49mrequest_timeout,\n\u001b[1;32m    161\u001b[0m     )\n\u001b[1;32m    163\u001b[0m     \u001b[39mif\u001b[39;00m stream:\n\u001b[1;32m    164\u001b[0m         \u001b[39m# must be an iterator\u001b[39;00m\n\u001b[1;32m    165\u001b[0m         \u001b[39massert\u001b[39;00m \u001b[39mnot\u001b[39;00m \u001b[39misinstance\u001b[39m(response, OpenAIResponse)\n",
            "File \u001b[0;32m~/venvs/tfgpu_mans/lib/python3.10/site-packages/openai/api_requestor.py:230\u001b[0m, in \u001b[0;36mAPIRequestor.request\u001b[0;34m(self, method, url, params, headers, files, stream, request_id, request_timeout)\u001b[0m\n\u001b[1;32m    209\u001b[0m \u001b[39mdef\u001b[39;00m \u001b[39mrequest\u001b[39m(\n\u001b[1;32m    210\u001b[0m     \u001b[39mself\u001b[39m,\n\u001b[1;32m    211\u001b[0m     method,\n\u001b[0;32m   (...)\u001b[0m\n\u001b[1;32m    218\u001b[0m     request_timeout: Optional[Union[\u001b[39mfloat\u001b[39m, Tuple[\u001b[39mfloat\u001b[39m, \u001b[39mfloat\u001b[39m]]] \u001b[39m=\u001b[39m \u001b[39mNone\u001b[39;00m,\n\u001b[1;32m    219\u001b[0m ) \u001b[39m-\u001b[39m\u001b[39m>\u001b[39m Tuple[Union[OpenAIResponse, Iterator[OpenAIResponse]], \u001b[39mbool\u001b[39m, \u001b[39mstr\u001b[39m]:\n\u001b[1;32m    220\u001b[0m     result \u001b[39m=\u001b[39m \u001b[39mself\u001b[39m\u001b[39m.\u001b[39mrequest_raw(\n\u001b[1;32m    221\u001b[0m         method\u001b[39m.\u001b[39mlower(),\n\u001b[1;32m    222\u001b[0m         url,\n\u001b[0;32m   (...)\u001b[0m\n\u001b[1;32m    228\u001b[0m         request_timeout\u001b[39m=\u001b[39mrequest_timeout,\n\u001b[1;32m    229\u001b[0m     )\n\u001b[0;32m--> 230\u001b[0m     resp, got_stream \u001b[39m=\u001b[39m \u001b[39mself\u001b[39;49m\u001b[39m.\u001b[39;49m_interpret_response(result, stream)\n\u001b[1;32m    231\u001b[0m     \u001b[39mreturn\u001b[39;00m resp, got_stream, \u001b[39mself\u001b[39m\u001b[39m.\u001b[39mapi_key\n",
            "File \u001b[0;32m~/venvs/tfgpu_mans/lib/python3.10/site-packages/openai/api_requestor.py:624\u001b[0m, in \u001b[0;36mAPIRequestor._interpret_response\u001b[0;34m(self, result, stream)\u001b[0m\n\u001b[1;32m    616\u001b[0m     \u001b[39mreturn\u001b[39;00m (\n\u001b[1;32m    617\u001b[0m         \u001b[39mself\u001b[39m\u001b[39m.\u001b[39m_interpret_response_line(\n\u001b[1;32m    618\u001b[0m             line, result\u001b[39m.\u001b[39mstatus_code, result\u001b[39m.\u001b[39mheaders, stream\u001b[39m=\u001b[39m\u001b[39mTrue\u001b[39;00m\n\u001b[1;32m    619\u001b[0m         )\n\u001b[1;32m    620\u001b[0m         \u001b[39mfor\u001b[39;00m line \u001b[39min\u001b[39;00m parse_stream(result\u001b[39m.\u001b[39miter_lines())\n\u001b[1;32m    621\u001b[0m     ), \u001b[39mTrue\u001b[39;00m\n\u001b[1;32m    622\u001b[0m \u001b[39melse\u001b[39;00m:\n\u001b[1;32m    623\u001b[0m     \u001b[39mreturn\u001b[39;00m (\n\u001b[0;32m--> 624\u001b[0m         \u001b[39mself\u001b[39;49m\u001b[39m.\u001b[39;49m_interpret_response_line(\n\u001b[1;32m    625\u001b[0m             result\u001b[39m.\u001b[39;49mcontent\u001b[39m.\u001b[39;49mdecode(\u001b[39m\"\u001b[39;49m\u001b[39mutf-8\u001b[39;49m\u001b[39m\"\u001b[39;49m),\n\u001b[1;32m    626\u001b[0m             result\u001b[39m.\u001b[39;49mstatus_code,\n\u001b[1;32m    627\u001b[0m             result\u001b[39m.\u001b[39;49mheaders,\n\u001b[1;32m    628\u001b[0m             stream\u001b[39m=\u001b[39;49m\u001b[39mFalse\u001b[39;49;00m,\n\u001b[1;32m    629\u001b[0m         ),\n\u001b[1;32m    630\u001b[0m         \u001b[39mFalse\u001b[39;00m,\n\u001b[1;32m    631\u001b[0m     )\n",
            "File \u001b[0;32m~/venvs/tfgpu_mans/lib/python3.10/site-packages/openai/api_requestor.py:687\u001b[0m, in \u001b[0;36mAPIRequestor._interpret_response_line\u001b[0;34m(self, rbody, rcode, rheaders, stream)\u001b[0m\n\u001b[1;32m    685\u001b[0m stream_error \u001b[39m=\u001b[39m stream \u001b[39mand\u001b[39;00m \u001b[39m\"\u001b[39m\u001b[39merror\u001b[39m\u001b[39m\"\u001b[39m \u001b[39min\u001b[39;00m resp\u001b[39m.\u001b[39mdata\n\u001b[1;32m    686\u001b[0m \u001b[39mif\u001b[39;00m stream_error \u001b[39mor\u001b[39;00m \u001b[39mnot\u001b[39;00m \u001b[39m200\u001b[39m \u001b[39m<\u001b[39m\u001b[39m=\u001b[39m rcode \u001b[39m<\u001b[39m \u001b[39m300\u001b[39m:\n\u001b[0;32m--> 687\u001b[0m     \u001b[39mraise\u001b[39;00m \u001b[39mself\u001b[39m\u001b[39m.\u001b[39mhandle_error_response(\n\u001b[1;32m    688\u001b[0m         rbody, rcode, resp\u001b[39m.\u001b[39mdata, rheaders, stream_error\u001b[39m=\u001b[39mstream_error\n\u001b[1;32m    689\u001b[0m     )\n\u001b[1;32m    690\u001b[0m \u001b[39mreturn\u001b[39;00m resp\n",
            "\u001b[0;31mInvalidRequestError\u001b[0m: This model's maximum context length is 4097 tokens. However, your messages resulted in 4524 tokens. Please reduce the length of the messages."
          ]
        }
      ],
      "source": [
        "out = qa_chain(\n",
        "    inputs={\n",
        "        \"query\": question,\n",
        "        \"contexts\": \"\\n---\\n\".join([d.page_content for d in docs])\n",
        "    }\n",
        ")\n",
        "out[\"text\"]"
      ]
    },
    {
      "attachments": {},
      "cell_type": "markdown",
      "metadata": {
        "id": "KemgDCg8DkgE"
      },
      "source": [
        "## Chaining Everything with a SequentialChain"
      ]
    },
    {
      "attachments": {},
      "cell_type": "markdown",
      "metadata": {
        "id": "kTbLlWgEEII1"
      },
      "source": [
        "We can pull together the logic above into a function or set of methods, whatever is prefered — however if we'd like to use LangChain's approach to this we must \"chain\" together multiple chains. The first retrieval component is (1) not a chain per se, and (2) requires processing of the output. To do that, and fit with LangChain's \"chaining chains\" approach, we setup the _retrieval_ component within a `TransformChain`:"
      ]
    },
    {
      "cell_type": "code",
      "execution_count": 42,
      "metadata": {
        "id": "BpFmiRtYDpHp"
      },
      "outputs": [],
      "source": [
        "from langchain.chains import TransformChain\n",
        "\n",
        "def retrieval_transform(inputs: dict) -> dict:\n",
        "    docs = retriever.get_relevant_documents(query=inputs[\"question\"])\n",
        "    docs = [d.page_content for d in docs]\n",
        "    docs_dict = {\n",
        "        \"query\": inputs[\"question\"],\n",
        "        \"contexts\": \"\\n---\\n\".join(docs)\n",
        "    }\n",
        "    return docs_dict\n",
        "\n",
        "retrieval_chain = TransformChain(\n",
        "    input_variables=[\"question\"],\n",
        "    output_variables=[\"query\", \"contexts\"],\n",
        "    transform=retrieval_transform\n",
        ")"
      ]
    },
    {
      "attachments": {},
      "cell_type": "markdown",
      "metadata": {
        "id": "SoD45Au1Eg-r"
      },
      "source": [
        "Now we chain this with our generation step using the `SequentialChain`:"
      ]
    },
    {
      "cell_type": "code",
      "execution_count": 43,
      "metadata": {
        "id": "azqCwDwXEkDT"
      },
      "outputs": [],
      "source": [
        "from langchain.chains import SequentialChain\n",
        "\n",
        "rag_chain = SequentialChain(\n",
        "    chains=[retrieval_chain, qa_chain],\n",
        "    input_variables=[\"question\"],  # we need to name differently to output \"query\"\n",
        "    output_variables=[\"query\", \"contexts\", \"text\"]\n",
        ")"
      ]
    },
    {
      "attachments": {},
      "cell_type": "markdown",
      "metadata": {
        "id": "xpB2aWV4ESzf"
      },
      "source": [
        "Then we perform the full RAG pipeline:"
      ]
    },
    {
      "cell_type": "code",
      "execution_count": 44,
      "metadata": {
        "colab": {
          "base_uri": "https://localhost:8080/",
          "height": 161
        },
        "id": "JvJbUaLqFRG2",
        "outputId": "582caa21-777a-4a01-a618-9db64185ad5e"
      },
      "outputs": [
        {
          "name": "stderr",
          "output_type": "stream",
          "text": [
            "INFO:langchain.retrievers.multi_query:Generated queries: ['1. Which courses are recommended for term 4 in the field of electrical engineering?', '2. What are the suggested courses for term 4 if I am studying electrical engineering?', '3. Can you provide a list of courses that would be beneficial for term 4 in electrical engineering?']\n"
          ]
        },
        {
          "data": {
            "text/plain": [
              "'Based on the provided information, the required courses for term 4 of the Electrical Engineering program are CIV 4220, CIV 4310, CIV 4450, and CIV 4610. The elective course for term 4 is ENGI 4421.'"
            ]
          },
          "execution_count": 44,
          "metadata": {},
          "output_type": "execute_result"
        }
      ],
      "source": [
        "out = rag_chain({\"question\": question})\n",
        "out[\"text\"]"
      ]
    },
    {
      "attachments": {},
      "cell_type": "markdown",
      "metadata": {
        "id": "bLmv01geK-ZS"
      },
      "source": [
        "---"
      ]
    },
    {
      "attachments": {},
      "cell_type": "markdown",
      "metadata": {
        "id": "vAZVPhHzLDQQ"
      },
      "source": [
        "## Custom Multiquery"
      ]
    },
    {
      "attachments": {},
      "cell_type": "markdown",
      "metadata": {
        "id": "rI-KVO6zjJZw"
      },
      "source": [
        "We'll try this with two prompts, both encourage more variety in search queries.\n",
        "\n",
        "**Prompt A**\n",
        "```\n",
        "Your task is to generate 3 different search queries that aim to\n",
        "answer the user question from multiple perspectives.\n",
        "Each query MUST tackle the question from a different viewpoint,\n",
        "we want to get a variety of RELEVANT search results.\n",
        "Provide these alternative questions separated by newlines.\n",
        "Original question: {question}\n",
        "```\n",
        "\n",
        "\n",
        "**Prompt B**\n",
        "```\n",
        "Your task is to generate 3 different search queries that aim to\n",
        "answer the user question from multiple perspectives. The user questions\n",
        "are focused on Large Language Models, Machine Learning, and related\n",
        "disciplines.\n",
        "Each query MUST tackle the question from a different viewpoint, we\n",
        "want to get a variety of RELEVANT search results.\n",
        "Provide these alternative questions separated by newlines.\n",
        "Original question: {question}\n",
        "```"
      ]
    },
    {
      "cell_type": "code",
      "execution_count": 52,
      "metadata": {
        "id": "4IlEnYeKLFzh"
      },
      "outputs": [],
      "source": [
        "from typing import List\n",
        "from langchain.chains import LLMChain\n",
        "from pydantic import BaseModel, Field\n",
        "from langchain.prompts import PromptTemplate\n",
        "from langchain.output_parsers import PydanticOutputParser\n",
        "\n",
        "\n",
        "# Output parser will split the LLM result into a list of queries\n",
        "class LineList(BaseModel):\n",
        "    # \"lines\" is the key (attribute name) of the parsed output\n",
        "    lines: List[str] = Field(description=\"Lines of text\")\n",
        "\n",
        "\n",
        "class LineListOutputParser(PydanticOutputParser):\n",
        "    def __init__(self) -> None:\n",
        "        super().__init__(pydantic_object=LineList)\n",
        "\n",
        "    def parse(self, text: str) -> LineList:\n",
        "        lines = text.strip().split(\"\\n\")\n",
        "        return LineList(lines=lines)\n",
        "\n",
        "\n",
        "output_parser = LineListOutputParser()\n",
        "\n",
        "template = \"\"\"\n",
        "Your task is to generate 3 different search queries that aim to\n",
        "answer the user question from multiple perspectives. The user questions\n",
        "are focused on Large Language Models, Machine Learning, and related\n",
        "disciplines.\n",
        "Each query MUST tackle the question from a different viewpoint, we\n",
        "want to get a variety of RELEVANT search results.\n",
        "Provide these alternative questions separated by newlines.\n",
        "Original question: {question}\n",
        "\"\"\"\n",
        "\n",
        "QUERY_PROMPT = PromptTemplate(\n",
        "    input_variables=[\"question\"],\n",
        "    template=template,\n",
        ")\n",
        "llm = ChatOpenAI(temperature=0, openai_api_key=OPENAI_API_KEY)\n",
        "\n",
        "# Chain\n",
        "llm_chain = LLMChain(llm=llm, prompt=QUERY_PROMPT, output_parser=output_parser)"
      ]
    },
    {
      "cell_type": "code",
      "execution_count": 53,
      "metadata": {
        "colab": {
          "base_uri": "https://localhost:8080/"
        },
        "id": "0CgduNJWLBez",
        "outputId": "7ffee6c2-27b4-4bdf-8c79-7effd27e3cd4"
      },
      "outputs": [
        {
          "name": "stderr",
          "output_type": "stream",
          "text": [
            "INFO:langchain.retrievers.multi_query:Generated queries: ['1. What are the recommended courses for term 4 in electrical engineering curriculum?', '2. Which specific courses are typically offered in the fourth term of an electrical engineering program?', '3. What are the core subjects covered in the fourth term of an electrical engineering degree program?']\n"
          ]
        },
        {
          "data": {
            "text/plain": [
              "7"
            ]
          },
          "execution_count": 53,
          "metadata": {},
          "output_type": "execute_result"
        }
      ],
      "source": [
        "# Run\n",
        "retriever = MultiQueryRetriever(\n",
        "    retriever=vectorstore.as_retriever(), llm_chain=llm_chain, parser_key=\"lines\"\n",
        ")  # \"lines\" is the key (attribute name) of the parsed output\n",
        "\n",
        "# Results\n",
        "docs = retriever.get_relevant_documents(\n",
        "    query=question\n",
        ")\n",
        "len(docs)"
      ]
    },
    {
      "cell_type": "code",
      "execution_count": 54,
      "metadata": {
        "colab": {
          "base_uri": "https://localhost:8080/"
        },
        "id": "PSySsaDKMK1i",
        "outputId": "e6f95abd-99fc-4576-d1f4-5fd4c21c70ab"
      },
      "outputs": [
        {
          "data": {
            "text/plain": [
              "[Document(page_content='Work terms shall normally be taken in the order as set out in Civil Engineering Major.\\n\\n\\n\\n**Engineering One Term** -\\n   - Required Courses:\\n     1. Chemistry 1050 or 1200\\n     2. 3 credit hours in English at the 1000 level or any Critical Reading and Writing course\\n     3. Mathematics 1000, 1001, 2050\\n     4. Physics 1050, 1051\\n   - Elective Courses:\\n     1. ENGI 1010, 1020, 1030, 1040\\n\\n\\n**Fall - Academic Term 3** -\\n   - Required Courses:\\n     1. CIV 3210, 3440, 3710, 3720\\n   - Elective Courses:\\n     1. ENGI 3101\\n     2. Mechanical and Mechatronics Engineering 3301\\n\\n\\n**Winter** -\\n   - Required Courses:\\n     1. ENGI 001W or 002W\\n\\n\\n**Spring - Academic Term 4** -\\n   - Required Courses:\\n     1. CIV 4220, 4310, 4450, 4610\\n   - Elective Courses:\\n     1. ENGI 4421\\n\\n\\n**Fall** -\\n   - Required Courses:\\n     1. ENGI 001W or 002W or 003W\\n\\n\\n**Winter - Academic Term 5** -\\n   - Required Courses:\\n     1. CIV 5110, 5230, 5320, 5460, 5510\\n\\n\\n**Spring** -\\n   - Required Courses:\\n     1. ENGI 002W or 003W or 004W\\n\\n\\n**Fall - Academic Term 6** -\\n   - Required Courses:\\n     1. CIV 6120, 6330, 6470, 6520, 6810\\n\\n\\n**Winter** -\\n   - Required Courses:\\n     1. ENGI 003W or 004W or 005W (optional)\\n\\n\\n**Spring - Academic Term 7** -\\n    - Required Courses:\\n      1. CIV 7130, 7530, 7730\\n      2. 6 credit hours from: CIV 7140, 7240, 7340, 7540, 7620, 7820 or other courses as specified by the Head of the Department of Civil Engineering\\n\\n\\n**Fall** -\\n    - Required Courses:\\n      1. ENGI 004W or 005W (optional) or 006W (optional)', metadata={'id': '00bb7cb162b1-3'}),\n",
              " Document(page_content=\"11.3 Electrical and Computer Engineering\\nIn accordance with Senate's Policy Regarding Inactive Courses, the course descriptions for courses which have not been offered in the previous three academic years and which are not scheduled to be offered in the current academic year have been removed from the following listing. For information about any of these inactive courses, please contact the Head of the Department. (or the Associate Dean (Undergraduate Studies) of the Faculty in the case of ENGI courses).\\nElectrical and Computer Engineering courses are identified by a four-digit numbering system, the first two digits signifying the following:\\nThe first digit denotes the academic term during which the course is normally offered.\\nThe second digit denotes the primary areas of study, namely:\\n0: Design\\n\\t1: Mathematics\\n\\t2: Controls\\n\\t3: Circuits\\n\\t4: Software\\n\\t5: Digital Hardware\\n\\t6: Signals & Communications\\n\\t7: Electromagnetism\\n\\t8: Power & Machines\\n\\t9: Special Topics\\n\\tElectrical and Computer Engineering courses are designated by ECE.\\nNon-departmental Engineering courses are designated by ENGI.\\nECE 3300 Circuit Analysis\\nbegins with a review of basic circuit analysis including dependent sources, then considers wye-delta transformation, bridge circuits, transient analysis of first- and second -order circuits, sinusoidal steady state analysis, phasor diagrams, sinusoidal steady-state power, complex power and maximum power transfer.\\nCO:\\nENGI 3424. Students completing a Minor in Applied Science - Electrical Engineering may successfully complete Mathematics 2260 as the co-requisite instead of ENGI 3424.\\nCR:Physics 3550\\nEQ:the former ENGI 3821\\nLH:eight 3-hour sessions per semester\\nOR:tutorial 1 hour per week\\nPR:ENGI 1040, Mathematics 1001, Mathematics 2050. Students completing a Minor in Applied Science - Electrical Engineering may complete Physics 2055 as the prerequisite instead of ENGI 1040.\\n \\nECE 3400 Foundations of Programming\\nintroduces fundamental concepts in object-oriented programming and develops vocational programming skills in C++. Topics include abstraction, types, contracts, object-oriented design, C++ language features including key elements of the standard library and practical programming and debugging skills.\\nCR:Computer Science 2510\\nEQ:the former ENGI 3891\\nLH:at least four 2-hour sessions per semester\\nOR:tutorial one hour per week\\nPR:ENGI 1020\\n \\nECE 3500 Digital Logic\", metadata={'id': '00bb7cb162b1-34'}),\n",
              " Document(page_content='3 credit hours from Technical Stream Elective Courses.\\nOne free elective which must be a 2000-level or higher course from any academic unit. Selection of a course must be approved by the Head of the Department of Mechanical and Mechatronics Engineering and must be completed before Academic Term 8.\\n \\n\\tFall \\n\\tENGI 004W or 005W (optional) or 006W (optional) \\n\\t \\n\\tWinter\\nAcademic Term 8\\n\\tENGI 8152\\nME 8705\\n \\n\\t3 credit hours from Technical Stream Required Courses, Academic Term 8\\n6 credit hours from Technical Stream Elective Courses\\n \\n\\t________________', metadata={'id': '00bb7cb162b1-12'}),\n",
              " Document(page_content=\"Some of the courses offered in academic terms 3 to 8 are taken by all Engineering students, others are offered for more than one major, but most technical courses in academic terms 3 to 8 are specific to the individual majors. Students should refer to the program descriptions for the detailed course requirements in each phase of their program.\\n\\n9. Technical elective courses may be offered in terms other than those indicated in the program tables.\\n\\n10. A student who has previously met a technical elective requirement in a given semester or wishes to defer it, may request an exemption or deferral by applying to the Head of the appropriate Department. A minimum grade of 60% is required for credit to be given towards a student’s engineering program for any technical elective taken outside the normal Academic Terms as shown in the tables.\\n\\n11. A minimum grade of 60% is required for credit to be given towards a student's engineering program for any course beyond Engineering One that is taken outside the normal Academic Terms as shown in the tables.\\n\\n12. Transfer credit cannot be awarded for project or design courses in Academic Terms 7 or 8 of the Engineering program.\\n\\n13. Students registered in Academic Term 7 of any Engineering major are eligible to apply for admission to a Master of Engineering Fast-Track Option (M.Eng.). The purpose of the Option is to encourage students interested in pursuing graduate studies to begin their graduate program while still registered as an undergraduate student. While enrolled in the Option, a student may complete some of the M.Eng. Degree requirements and potentially be able to graduate earlier from the M.Eng. Program. For further details and the regulations regarding the option, refer to the School of Graduate Studies, Regulations Governing the Degree of Master of Engineering.\\n\\n________________\\n5.3 Admission Requirements to the Faculty Program\\nOn this page\\n   * 5.3.1 High School Applicants\\n   * 5.3.2 Memorial University of Newfoundland Applicants\\n   * 5.3.3 Transfer Applicants\\nAn applicant must be eligible for admission or readmission to the University in a category as defined in the Calendar section University Regulations (Undergraduate), Categories of Applicants, Admission Criteria and Other Information. In addition to meeting these regulations, an applicant to the Bachelor of Engineering program in the following admission categories must meet the requirements as indicated below.\\n________________\\n\\n\\n5.3.1 High School Applicants\\n   1. The Faculty of Engineering and Applied Science encourages applications for admission to the Bachelor of Engineering program from high school students who are new to post-secondary education, have an interest in pursuing an engineering degree and have achieved a good academic performance during high school. In addition to meeting the requirements under University Regulations (Undergraduate), Applicants Who Have Followed the High School Curriculum of Newfoundland and Labrador, Admission Criteria, performance in advanced mathematics, chemistry, physics and English is of particular interest, and grades above 80% are normally required for consideration.\", metadata={'id': '00bb7cb162b1-1'}),\n",
              " Document(page_content='\\ufeffFaculty of Engineering and Applied Science\\n4.1 Program of Study\\n1. Courses in the Engineering Program are normally taken in Academic Terms as shown in the appropriate program table. Students must satisfy the criteria for promotion as described below under Promotion Regulations to remain in the Engineering program.\\n\\n2. The Engineering Program consists of eight academic terms and four to six work terms. The first-year of the Engineering Program, known as Engineering One, forms a core that is common to all majors. All students must successfully complete the requirements of Engineering One prior to being promoted to Academic Term 3 as indicated under Promotion Regulations, Promotion Status (Engineering One).\\n\\n3. To be eligible for registration for ENGI 001W in the Spring semester after completing Engineering One, students are expected to successfully complete the prerequisite ENGI 200W in the Fall semester of Engineering One. All other Engineering One students are expected to successfully complete ENGI 200W in the Winter semester of Engineering One.\\n\\n4. In 1000 level Engineering courses, registration priority is given to students who have been admitted to Engineering One. Other students will be admitted to these courses only with the approval of the Associate Dean (Undergraduate Studies) (or delegate).\\n\\n5. In these program regulations, including the program tables, wherever reference is made to Chemistry 1050, this course may be replaced by a course deemed equivalent by the relevant academic unit.\\n\\n6. Upon entering Academic Term 3, students begin to specialize in their academic program, in one of the following seven majors: Civil Engineering, Computer Engineering, Electrical Engineering, Mechanical Engineering, Mechatronics Engineering, Ocean and Naval Architectural Engineering, or Process Engineering.\\n\\n7. Upon entering Academic Term 6, students in the Computer Engineering and Electrical Engineering majors may choose to enter the Biomedical stream. Upon entering Academic Term 6, students in the Mechanical Engineering major choose one of five technical streams: Biomedical, Mechanics and Materials, Mechatronics, Petroleum, and Thermo-Fluids. Upon entering Academic Term 6, students in the Process Engineering major may choose one of two technical streams: Chemical and Bioprocess, and Mineral and Energy Resources.\\n\\n8. Courses offered in the Faculty of Engineering and Applied Science are restricted to students who have been admitted or promoted to the appropriate academic term and major (e.g., Academic Term 3 for 3000 level courses, restricted by major; Engineering One for 1000 level courses). Other students will be admitted to these courses only with the approval of the Head of the appropriate Department for courses at the 3000 level and higher, or the Associate Dean (Undergraduate Studies) (or delegate) for ENGI courses.', metadata={'id': '00bb7cb162b1-0'}),\n",
              " Document(page_content=\"LH:five 3-hour sessions per semester\\nOR:tutorial 1 hour per week\\nPR:ECE 3300 or the former ENGI 3821, ENGI 1040, ENGI 3424\\n \\nECE 5700 Basic Electromagnetics\\nincludes a review of relevant vector calculus, including the divergence, gradient and curl operators in Cartesian, cylindrical and spherical coordinates, divergence theorem, Stokes' theorem, and Laplace's and Poisson's equations. Topics in electrostatics include Coulomb's law, potential and energy, conductors, dielectrics, capacitance and electric field boundary conditions. Topics for magnetism include the steady magnetic field, the Biot-Savart law and Ampère's law.\\nCR:Physics 3500\\nEQ:the former ENGI 5812\\nOR:tutorial 1 hour per week\\nPR:ECE 3300 or the former ENGI 3821, ENGI 4430\\n \\nECE 6200 Industrial Controls and Instrumentation\\nexamines control and instrumentation system components; transducers and signal processing circuits, linear variable differential transformers, power oscillators; electromechanical actuators, solenoids, power drives; A/D and D/A conversion, standard PC interfaces; real-time operating systems; design of discrete-time feedback controllers on a PC platform; system integration, control system tweaking and troubleshooting; programming soft-PLC's using IEC61131.\\nCR:the former ENGI 7858\\nEQ:the former ENGI 6855\\nLH:at least eight 3-hour sessions per semester\\nPR:ECE 5200 or the former ENGI 5821\\n \\nECE 6400 Software Development Practice\\nintroduces the student to software development processes, practices, and tools. It includes software project management using agile processes; development tools and practices; architectural level design; deployment and operations; and verification via static analysis, formal verification, and testing.\\nEQ:the former ENGI 6893\\nLH:six 3-hour sessions per semester\\nPR:ECE 5010 or the former ENGI 5895, ECE 5400 or the former ENGI 5892\\n \\nECE 6500 Computer Architecture\\nbegins with a review of microprocessors and computer organization. Topics include fundamentals of computer design: performance metrics and cost; instruction set architecture; memory hierarchy design: cache, main memory and virtual memory; pipelining: hazards, parallelism; special purpose processors; multiprocessors and thread-level parallelism.\\nEQ:the former ENGI 6861\\nOR:tutorial 1 hour per week\\nPR:ECE 5500 or the former ENGI 5865\\n \\nECE 6600 Communication Principles\", metadata={'id': '00bb7cb162b1-39'}),\n",
              " Document(page_content=\"ECE 5000 Electrical Engineering Design\\nstudents work, normally in pairs, on small design projects that require them to follow a hierarchical design process including general product definition, specifications and requirements, functional-block diagrams, specification of functional blocks for circuit-level synthesis and implementation, system integration, simulation or modelling, testing and verification. The small projects are designed to encourage and motivate students to learn and practise the process of design. The course culminates in a large design project.\\nCO:\\nECE 5200 or the former ENGI 5821, ECE 5300 or the former ENGI 5854. There is no co-requisite for students completing a minor in Applied Science - Electrical Engineering.\\nEQ:the former ENGI 5800\\nLC:\\n18 lecture hours per semester\\nLH:ten 3-hour sessions per semester\\nOR:meetings with project supervisor as required\\nPR:ECE 4300 or the former ENGI 4854, ECE 4500 or the former ENGI 4862, ECE 4800 or the former ENGI 4841\\n \\nECE 5010 Software Design\\nexamines the development process: requirement analysis, design, iterative development, design documentation; an introduction to the Unified Modelling Language: use cases, class diagrams and sequence diagrams; an introduction to software design patterns: creational patterns, structural patterns and behavioural patterns; object oriented, modular decomposition. The course includes a major design project.\\nEQ:the former ENGI 5895\\nLC:\\n25 lecture hours per semester\\nLH:six 3-hour sessions per semester\\nOR:meetings with project supervisor as required\\nPR:ECE 4400 or the former ENGI 4892\\n \\nECE 5100 Probability and Random Processes\\nincludes basic concepts in probability, random variables, multiple random variables, descriptive statistics, random processes and selected applications for engineering.\\nEQ:the former ENGI 5420\\nOR:twelve 1-hour tutorial sessions per semester\\nPR:ECE 4600 or the former ENGI 4823\\n \\nECE 5200 Control Systems I\\nincludes an introduction to control systems with negative feedback; mathematical modelling and transfer functions of electromechanical systems; block diagram and signal flow graphs; controller realization; transient response analysis; Routh's stability criterion; basic control actions and response of control systems; root locus analysis and design; frequency response analysis; Bode diagram; gain and phase margins; compensator design in frequency domain; Nyquist stability criterion; digital implementations of analog compensators; and an introduction to PID controller tuning methods.\\nEQ:the former ENGI 5821\\nLH:four 3-hour sessions per semester\\nOR:six 1-hour tutorials per semester\\nPR:ECE 4600 or the former ENGI 4823\", metadata={'id': '00bb7cb162b1-37'})]"
            ]
          },
          "execution_count": 54,
          "metadata": {},
          "output_type": "execute_result"
        }
      ],
      "source": [
        "docs"
      ]
    },
    {
      "attachments": {},
      "cell_type": "markdown",
      "metadata": {
        "id": "F4q65OEiizU2"
      },
      "source": [
        "Putting this together in another `SequentialChain`:"
      ]
    },
    {
      "cell_type": "code",
      "execution_count": 55,
      "metadata": {
        "id": "LTRjTIKzi2-g"
      },
      "outputs": [],
      "source": [
        "retrieval_chain = TransformChain(\n",
        "    input_variables=[\"question\"],\n",
        "    output_variables=[\"query\", \"contexts\"],\n",
        "    transform=retrieval_transform\n",
        ")\n",
        "\n",
        "rag_chain = SequentialChain(\n",
        "    chains=[retrieval_chain, qa_chain],\n",
        "    input_variables=[\"question\"],  # we need to name differently to output \"query\"\n",
        "    output_variables=[\"query\", \"contexts\", \"text\"]\n",
        ")"
      ]
    },
    {
      "attachments": {},
      "cell_type": "markdown",
      "metadata": {
        "id": "Rda74xhpjE6A"
      },
      "source": [
        "And asking again:"
      ]
    },
    {
      "cell_type": "code",
      "execution_count": 56,
      "metadata": {
        "id": "9UcBY71cjGgX"
      },
      "outputs": [
        {
          "name": "stderr",
          "output_type": "stream",
          "text": [
            "INFO:langchain.retrievers.multi_query:Generated queries: ['1. What are the recommended courses for term 4 in electrical engineering curriculum?', '2. Which specific courses are typically offered in term 4 for electrical engineering students?', '3. What are the core courses in term 4 of an electrical engineering program?']\n"
          ]
        },
        {
          "data": {
            "text/plain": [
              "'In Academic Term 4 for Electrical Engineering at Memorial University of Newfoundland, the following courses are required:\\n\\n- **ECE 3300** Circuit Analysis\\n- **ECE 3400** Foundations of Programming\\n\\nThese are the specific courses that you should take in Term 4 for Electrical Engineering. If you have any further questions or need additional academic guidance, feel free to ask!'"
            ]
          },
          "execution_count": 56,
          "metadata": {},
          "output_type": "execute_result"
        }
      ],
      "source": [
        "out = rag_chain({\"question\": question})\n",
        "out[\"text\"]"
      ]
    },
    {
      "attachments": {},
      "cell_type": "markdown",
      "metadata": {
        "id": "8jULksgk7gLA"
      },
      "source": [
        "After finishing, delete your Pinecone index to save resources:"
      ]
    },
    {
      "cell_type": "code",
      "execution_count": 22,
      "metadata": {},
      "outputs": [],
      "source": [
        "pinecone.delete_index(index_name)"
      ]
    },
    {
      "attachments": {},
      "cell_type": "markdown",
      "metadata": {},
      "source": [
        "---"
      ]
    }
  ],
  "metadata": {
    "colab": {
      "provenance": []
    },
    "kernelspec": {
      "display_name": "Python 3",
      "name": "python3"
    },
    "language_info": {
      "codemirror_mode": {
        "name": "ipython",
        "version": 3
      },
      "file_extension": ".py",
      "mimetype": "text/x-python",
      "name": "python",
      "nbconvert_exporter": "python",
      "pygments_lexer": "ipython3",
      "version": "3.10.12"
    }
  },
  "nbformat": 4,
  "nbformat_minor": 0
}
