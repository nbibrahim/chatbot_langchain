{
 "cells": [
  {
   "cell_type": "code",
   "execution_count": 1,
   "metadata": {},
   "outputs": [],
   "source": [
    "import requests"
   ]
  },
  {
   "cell_type": "code",
   "execution_count": 2,
   "metadata": {},
   "outputs": [],
   "source": [
    "api_key ='VF.DM.655e1edfe8e45700076c032f.jYg0IipxYBoryUh4'"
   ]
  },
  {
   "cell_type": "code",
   "execution_count": 3,
   "metadata": {},
   "outputs": [],
   "source": [
    "def interact(user_id, request):\n",
    "    response = requests.post(\n",
    "        f'https://general-runtime.voiceflow.com/state/user/{user_id}/interact',\n",
    "        json={ 'request': request },\n",
    "        headers={ 'Authorization': api_key },\n",
    "    )\n",
    "\n",
    "    for trace in response.json():\n",
    "        if trace['type'] == 'speak' or trace['type'] == 'text':\n",
    "            print(trace['payload']['message'])\n",
    "        elif trace['type'] == 'end':\n",
    "            # an end trace means the the voiceflow dialog has ended\n",
    "            return False\n",
    "    return True\n",
    "\n",
    "name = input('> What is your name?\\n')\n",
    "isRunning = interact(name, { 'type': 'launch' })\n",
    "\n",
    "while (isRunning):\n",
    "    nextInput = input('> Say something\\n')\n",
    "    # send a simple text type request with the user input\n",
    "    isRunning = interact(name, { 'type': 'text', 'payload': nextInput })\n",
    "\n",
    "input('The end! Start me again with `python index.py` or `python3 index.py`')"
   ]
  },
  {
   "cell_type": "code",
   "execution_count": null,
   "metadata": {},
   "outputs": [],
   "source": []
  }
 ],
 "metadata": {
  "kernelspec": {
   "display_name": "tfgpu_mans",
   "language": "python",
   "name": "python3"
  },
  "language_info": {
   "codemirror_mode": {
    "name": "ipython",
    "version": 3
   },
   "file_extension": ".py",
   "mimetype": "text/x-python",
   "name": "python",
   "nbconvert_exporter": "python",
   "pygments_lexer": "ipython3",
   "version": "3.10.12"
  }
 },
 "nbformat": 4,
 "nbformat_minor": 2
}
