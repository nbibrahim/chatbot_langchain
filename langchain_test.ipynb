{
 "cells": [
  {
   "cell_type": "code",
   "execution_count": 12,
   "metadata": {},
   "outputs": [],
   "source": [
    "from langchain.agents.openai_assistant import OpenAIAssistantRunnable\n",
    "from langchain.agents import AgentExecutor"
   ]
  },
  {
   "cell_type": "code",
   "execution_count": 8,
   "metadata": {},
   "outputs": [],
   "source": [
    "agent = OpenAIAssistantRunnable(assistant_id=\"asst_7yiFGHHjA9wSJlWZ9dLMz5Yw\", as_agent=True)"
   ]
  },
  {
   "cell_type": "code",
   "execution_count": 15,
   "metadata": {},
   "outputs": [],
   "source": [
    "response= agent.invoke({\"content\": \"What do you do\"})"
   ]
  },
  {
   "cell_type": "code",
   "execution_count": 16,
   "metadata": {},
   "outputs": [
    {
     "name": "stdout",
     "output_type": "stream",
     "text": [
      "return_values={'output': \"Hello! I am Unik, your Academic Advisor AI assistant for the Memorial University of Newfoundland (MUN). I'm here to provide you with precise and comprehensive information on academic matters including details about courses, programs, majors, minors, joint majors, and honors in various departments and faculties. If you have any questions related to your undergraduate studies at MUN, feel free to ask, and I'll be happy to assist you! If there's anything specific you'd like to know or any academic guidance you need, just let me know.\", 'thread_id': 'thread_pNnJ7eS8nHGA0iw23x7yvUev', 'run_id': 'run_m9E5a4KB5JPzr9bTfjZH4Zww'} log='' run_id='run_m9E5a4KB5JPzr9bTfjZH4Zww' thread_id='thread_pNnJ7eS8nHGA0iw23x7yvUev'\n"
     ]
    }
   ],
   "source": [
    "print(response)"
   ]
  },
  {
   "cell_type": "code",
   "execution_count": null,
   "metadata": {},
   "outputs": [],
   "source": []
  }
 ],
 "metadata": {
  "kernelspec": {
   "display_name": "tfgpu_mans",
   "language": "python",
   "name": "python3"
  },
  "language_info": {
   "codemirror_mode": {
    "name": "ipython",
    "version": 3
   },
   "file_extension": ".py",
   "mimetype": "text/x-python",
   "name": "python",
   "nbconvert_exporter": "python",
   "pygments_lexer": "ipython3",
   "version": "3.10.12"
  }
 },
 "nbformat": 4,
 "nbformat_minor": 2
}
